{
  "nbformat": 4,
  "nbformat_minor": 2,
  "metadata": {
    "colab": {
      "name": "Reatail EDA.ipynb",
      "provenance": []
    },
    "kernelspec": {
      "name": "python3",
      "display_name": "Python 3.9.5 64-bit"
    },
    "language_info": {
      "name": "python",
      "version": "3.9.5",
      "mimetype": "text/x-python",
      "codemirror_mode": {
        "name": "ipython",
        "version": 3
      },
      "pygments_lexer": "ipython3",
      "nbconvert_exporter": "python",
      "file_extension": ".py"
    },
    "interpreter": {
      "hash": "f19c99f7ab63c7c468dac1ecd4115fe9ec04487e9f98d0d4dfce3e927067e7a5"
    }
  },
  "cells": [
    {
      "cell_type": "markdown",
      "source": [
        "**The Sparks Foundation - Data Science & Business Analytics Internship**\r\n",
        "\r\n",
        "**Exploratory Data Analyis -  Retail**\r\n",
        "\r\n",
        "*By SAJAL HARMUKH*\r\n"
      ],
      "metadata": {
        "id": "ueJnBpaEET1i"
      }
    },
    {
      "cell_type": "markdown",
      "source": [
        "**Importing all the necessary libraries**\r\n"
      ],
      "metadata": {
        "id": "utQ9786xEHRE"
      }
    },
    {
      "cell_type": "code",
      "execution_count": 2,
      "source": [
        "import pandas as pd\r\n",
        "import numpy as np\r\n",
        "import matplotlib.pyplot as plt\r\n",
        "import seaborn as sb\r\n",
        "%matplotlib Inline\r\n"
      ],
      "outputs": [],
      "metadata": {
        "id": "Kr2JMH5qFKph"
      }
    },
    {
      "cell_type": "markdown",
      "source": [
        "**Reading the dataset**\r\n"
      ],
      "metadata": {
        "id": "KAE1ytQZFp7N"
      }
    },
    {
      "cell_type": "code",
      "execution_count": 3,
      "source": [
        "Retail_df = pd.read_csv('SampleSuperstore.csv')\r\n",
        "Retail_df.head()"
      ],
      "outputs": [
        {
          "output_type": "execute_result",
          "data": {
            "text/plain": [
              "        Ship Mode    Segment        Country             City       State  \\\n",
              "0    Second Class   Consumer  United States        Henderson    Kentucky   \n",
              "1    Second Class   Consumer  United States        Henderson    Kentucky   \n",
              "2    Second Class  Corporate  United States      Los Angeles  California   \n",
              "3  Standard Class   Consumer  United States  Fort Lauderdale     Florida   \n",
              "4  Standard Class   Consumer  United States  Fort Lauderdale     Florida   \n",
              "\n",
              "   Postal Code Region         Category Sub-Category     Sales  Quantity  \\\n",
              "0        42420  South        Furniture    Bookcases  261.9600         2   \n",
              "1        42420  South        Furniture       Chairs  731.9400         3   \n",
              "2        90036   West  Office Supplies       Labels   14.6200         2   \n",
              "3        33311  South        Furniture       Tables  957.5775         5   \n",
              "4        33311  South  Office Supplies      Storage   22.3680         2   \n",
              "\n",
              "   Discount    Profit  \n",
              "0      0.00   41.9136  \n",
              "1      0.00  219.5820  \n",
              "2      0.00    6.8714  \n",
              "3      0.45 -383.0310  \n",
              "4      0.20    2.5164  "
            ],
            "text/html": [
              "<div>\n",
              "<style scoped>\n",
              "    .dataframe tbody tr th:only-of-type {\n",
              "        vertical-align: middle;\n",
              "    }\n",
              "\n",
              "    .dataframe tbody tr th {\n",
              "        vertical-align: top;\n",
              "    }\n",
              "\n",
              "    .dataframe thead th {\n",
              "        text-align: right;\n",
              "    }\n",
              "</style>\n",
              "<table border=\"1\" class=\"dataframe\">\n",
              "  <thead>\n",
              "    <tr style=\"text-align: right;\">\n",
              "      <th></th>\n",
              "      <th>Ship Mode</th>\n",
              "      <th>Segment</th>\n",
              "      <th>Country</th>\n",
              "      <th>City</th>\n",
              "      <th>State</th>\n",
              "      <th>Postal Code</th>\n",
              "      <th>Region</th>\n",
              "      <th>Category</th>\n",
              "      <th>Sub-Category</th>\n",
              "      <th>Sales</th>\n",
              "      <th>Quantity</th>\n",
              "      <th>Discount</th>\n",
              "      <th>Profit</th>\n",
              "    </tr>\n",
              "  </thead>\n",
              "  <tbody>\n",
              "    <tr>\n",
              "      <th>0</th>\n",
              "      <td>Second Class</td>\n",
              "      <td>Consumer</td>\n",
              "      <td>United States</td>\n",
              "      <td>Henderson</td>\n",
              "      <td>Kentucky</td>\n",
              "      <td>42420</td>\n",
              "      <td>South</td>\n",
              "      <td>Furniture</td>\n",
              "      <td>Bookcases</td>\n",
              "      <td>261.9600</td>\n",
              "      <td>2</td>\n",
              "      <td>0.00</td>\n",
              "      <td>41.9136</td>\n",
              "    </tr>\n",
              "    <tr>\n",
              "      <th>1</th>\n",
              "      <td>Second Class</td>\n",
              "      <td>Consumer</td>\n",
              "      <td>United States</td>\n",
              "      <td>Henderson</td>\n",
              "      <td>Kentucky</td>\n",
              "      <td>42420</td>\n",
              "      <td>South</td>\n",
              "      <td>Furniture</td>\n",
              "      <td>Chairs</td>\n",
              "      <td>731.9400</td>\n",
              "      <td>3</td>\n",
              "      <td>0.00</td>\n",
              "      <td>219.5820</td>\n",
              "    </tr>\n",
              "    <tr>\n",
              "      <th>2</th>\n",
              "      <td>Second Class</td>\n",
              "      <td>Corporate</td>\n",
              "      <td>United States</td>\n",
              "      <td>Los Angeles</td>\n",
              "      <td>California</td>\n",
              "      <td>90036</td>\n",
              "      <td>West</td>\n",
              "      <td>Office Supplies</td>\n",
              "      <td>Labels</td>\n",
              "      <td>14.6200</td>\n",
              "      <td>2</td>\n",
              "      <td>0.00</td>\n",
              "      <td>6.8714</td>\n",
              "    </tr>\n",
              "    <tr>\n",
              "      <th>3</th>\n",
              "      <td>Standard Class</td>\n",
              "      <td>Consumer</td>\n",
              "      <td>United States</td>\n",
              "      <td>Fort Lauderdale</td>\n",
              "      <td>Florida</td>\n",
              "      <td>33311</td>\n",
              "      <td>South</td>\n",
              "      <td>Furniture</td>\n",
              "      <td>Tables</td>\n",
              "      <td>957.5775</td>\n",
              "      <td>5</td>\n",
              "      <td>0.45</td>\n",
              "      <td>-383.0310</td>\n",
              "    </tr>\n",
              "    <tr>\n",
              "      <th>4</th>\n",
              "      <td>Standard Class</td>\n",
              "      <td>Consumer</td>\n",
              "      <td>United States</td>\n",
              "      <td>Fort Lauderdale</td>\n",
              "      <td>Florida</td>\n",
              "      <td>33311</td>\n",
              "      <td>South</td>\n",
              "      <td>Office Supplies</td>\n",
              "      <td>Storage</td>\n",
              "      <td>22.3680</td>\n",
              "      <td>2</td>\n",
              "      <td>0.20</td>\n",
              "      <td>2.5164</td>\n",
              "    </tr>\n",
              "  </tbody>\n",
              "</table>\n",
              "</div>"
            ]
          },
          "metadata": {},
          "execution_count": 3
        }
      ],
      "metadata": {
        "colab": {
          "base_uri": "https://localhost:8080/",
          "height": 413
        },
        "id": "q_jGkgbcFYVa",
        "outputId": "8f412190-a3be-423a-b1fc-76366044395a"
      }
    },
    {
      "cell_type": "code",
      "execution_count": 4,
      "source": [
        "Retail_df.shape\r\n"
      ],
      "outputs": [
        {
          "output_type": "execute_result",
          "data": {
            "text/plain": [
              "(9994, 13)"
            ]
          },
          "metadata": {},
          "execution_count": 4
        }
      ],
      "metadata": {}
    },
    {
      "cell_type": "code",
      "execution_count": 5,
      "source": [
        "Retail_df.columns"
      ],
      "outputs": [
        {
          "output_type": "execute_result",
          "data": {
            "text/plain": [
              "Index(['Ship Mode', 'Segment', 'Country', 'City', 'State', 'Postal Code',\n",
              "       'Region', 'Category', 'Sub-Category', 'Sales', 'Quantity', 'Discount',\n",
              "       'Profit'],\n",
              "      dtype='object')"
            ]
          },
          "metadata": {},
          "execution_count": 5
        }
      ],
      "metadata": {}
    },
    {
      "cell_type": "code",
      "execution_count": 6,
      "source": [
        "Retail_df.describe()"
      ],
      "outputs": [
        {
          "output_type": "execute_result",
          "data": {
            "text/plain": [
              "        Postal Code         Sales     Quantity     Discount       Profit\n",
              "count   9994.000000   9994.000000  9994.000000  9994.000000  9994.000000\n",
              "mean   55190.379428    229.858001     3.789574     0.156203    28.656896\n",
              "std    32063.693350    623.245101     2.225110     0.206452   234.260108\n",
              "min     1040.000000      0.444000     1.000000     0.000000 -6599.978000\n",
              "25%    23223.000000     17.280000     2.000000     0.000000     1.728750\n",
              "50%    56430.500000     54.490000     3.000000     0.200000     8.666500\n",
              "75%    90008.000000    209.940000     5.000000     0.200000    29.364000\n",
              "max    99301.000000  22638.480000    14.000000     0.800000  8399.976000"
            ],
            "text/html": [
              "<div>\n",
              "<style scoped>\n",
              "    .dataframe tbody tr th:only-of-type {\n",
              "        vertical-align: middle;\n",
              "    }\n",
              "\n",
              "    .dataframe tbody tr th {\n",
              "        vertical-align: top;\n",
              "    }\n",
              "\n",
              "    .dataframe thead th {\n",
              "        text-align: right;\n",
              "    }\n",
              "</style>\n",
              "<table border=\"1\" class=\"dataframe\">\n",
              "  <thead>\n",
              "    <tr style=\"text-align: right;\">\n",
              "      <th></th>\n",
              "      <th>Postal Code</th>\n",
              "      <th>Sales</th>\n",
              "      <th>Quantity</th>\n",
              "      <th>Discount</th>\n",
              "      <th>Profit</th>\n",
              "    </tr>\n",
              "  </thead>\n",
              "  <tbody>\n",
              "    <tr>\n",
              "      <th>count</th>\n",
              "      <td>9994.000000</td>\n",
              "      <td>9994.000000</td>\n",
              "      <td>9994.000000</td>\n",
              "      <td>9994.000000</td>\n",
              "      <td>9994.000000</td>\n",
              "    </tr>\n",
              "    <tr>\n",
              "      <th>mean</th>\n",
              "      <td>55190.379428</td>\n",
              "      <td>229.858001</td>\n",
              "      <td>3.789574</td>\n",
              "      <td>0.156203</td>\n",
              "      <td>28.656896</td>\n",
              "    </tr>\n",
              "    <tr>\n",
              "      <th>std</th>\n",
              "      <td>32063.693350</td>\n",
              "      <td>623.245101</td>\n",
              "      <td>2.225110</td>\n",
              "      <td>0.206452</td>\n",
              "      <td>234.260108</td>\n",
              "    </tr>\n",
              "    <tr>\n",
              "      <th>min</th>\n",
              "      <td>1040.000000</td>\n",
              "      <td>0.444000</td>\n",
              "      <td>1.000000</td>\n",
              "      <td>0.000000</td>\n",
              "      <td>-6599.978000</td>\n",
              "    </tr>\n",
              "    <tr>\n",
              "      <th>25%</th>\n",
              "      <td>23223.000000</td>\n",
              "      <td>17.280000</td>\n",
              "      <td>2.000000</td>\n",
              "      <td>0.000000</td>\n",
              "      <td>1.728750</td>\n",
              "    </tr>\n",
              "    <tr>\n",
              "      <th>50%</th>\n",
              "      <td>56430.500000</td>\n",
              "      <td>54.490000</td>\n",
              "      <td>3.000000</td>\n",
              "      <td>0.200000</td>\n",
              "      <td>8.666500</td>\n",
              "    </tr>\n",
              "    <tr>\n",
              "      <th>75%</th>\n",
              "      <td>90008.000000</td>\n",
              "      <td>209.940000</td>\n",
              "      <td>5.000000</td>\n",
              "      <td>0.200000</td>\n",
              "      <td>29.364000</td>\n",
              "    </tr>\n",
              "    <tr>\n",
              "      <th>max</th>\n",
              "      <td>99301.000000</td>\n",
              "      <td>22638.480000</td>\n",
              "      <td>14.000000</td>\n",
              "      <td>0.800000</td>\n",
              "      <td>8399.976000</td>\n",
              "    </tr>\n",
              "  </tbody>\n",
              "</table>\n",
              "</div>"
            ]
          },
          "metadata": {},
          "execution_count": 6
        }
      ],
      "metadata": {}
    },
    {
      "cell_type": "code",
      "execution_count": 7,
      "source": [
        "Retail_df.info()"
      ],
      "outputs": [
        {
          "output_type": "stream",
          "name": "stdout",
          "text": [
            "<class 'pandas.core.frame.DataFrame'>\n",
            "RangeIndex: 9994 entries, 0 to 9993\n",
            "Data columns (total 13 columns):\n",
            " #   Column        Non-Null Count  Dtype  \n",
            "---  ------        --------------  -----  \n",
            " 0   Ship Mode     9994 non-null   object \n",
            " 1   Segment       9994 non-null   object \n",
            " 2   Country       9994 non-null   object \n",
            " 3   City          9994 non-null   object \n",
            " 4   State         9994 non-null   object \n",
            " 5   Postal Code   9994 non-null   int64  \n",
            " 6   Region        9994 non-null   object \n",
            " 7   Category      9994 non-null   object \n",
            " 8   Sub-Category  9994 non-null   object \n",
            " 9   Sales         9994 non-null   float64\n",
            " 10  Quantity      9994 non-null   int64  \n",
            " 11  Discount      9994 non-null   float64\n",
            " 12  Profit        9994 non-null   float64\n",
            "dtypes: float64(3), int64(2), object(8)\n",
            "memory usage: 1015.1+ KB\n"
          ]
        }
      ],
      "metadata": {}
    },
    {
      "cell_type": "code",
      "execution_count": 8,
      "source": [
        "Retail_df.isnull().sum()"
      ],
      "outputs": [
        {
          "output_type": "execute_result",
          "data": {
            "text/plain": [
              "Ship Mode       0\n",
              "Segment         0\n",
              "Country         0\n",
              "City            0\n",
              "State           0\n",
              "Postal Code     0\n",
              "Region          0\n",
              "Category        0\n",
              "Sub-Category    0\n",
              "Sales           0\n",
              "Quantity        0\n",
              "Discount        0\n",
              "Profit          0\n",
              "dtype: int64"
            ]
          },
          "metadata": {},
          "execution_count": 8
        }
      ],
      "metadata": {}
    },
    {
      "cell_type": "code",
      "execution_count": 9,
      "source": [
        "Retail_df.head()"
      ],
      "outputs": [
        {
          "output_type": "execute_result",
          "data": {
            "text/plain": [
              "        Ship Mode    Segment        Country             City       State  \\\n",
              "0    Second Class   Consumer  United States        Henderson    Kentucky   \n",
              "1    Second Class   Consumer  United States        Henderson    Kentucky   \n",
              "2    Second Class  Corporate  United States      Los Angeles  California   \n",
              "3  Standard Class   Consumer  United States  Fort Lauderdale     Florida   \n",
              "4  Standard Class   Consumer  United States  Fort Lauderdale     Florida   \n",
              "\n",
              "   Postal Code Region         Category Sub-Category     Sales  Quantity  \\\n",
              "0        42420  South        Furniture    Bookcases  261.9600         2   \n",
              "1        42420  South        Furniture       Chairs  731.9400         3   \n",
              "2        90036   West  Office Supplies       Labels   14.6200         2   \n",
              "3        33311  South        Furniture       Tables  957.5775         5   \n",
              "4        33311  South  Office Supplies      Storage   22.3680         2   \n",
              "\n",
              "   Discount    Profit  \n",
              "0      0.00   41.9136  \n",
              "1      0.00  219.5820  \n",
              "2      0.00    6.8714  \n",
              "3      0.45 -383.0310  \n",
              "4      0.20    2.5164  "
            ],
            "text/html": [
              "<div>\n",
              "<style scoped>\n",
              "    .dataframe tbody tr th:only-of-type {\n",
              "        vertical-align: middle;\n",
              "    }\n",
              "\n",
              "    .dataframe tbody tr th {\n",
              "        vertical-align: top;\n",
              "    }\n",
              "\n",
              "    .dataframe thead th {\n",
              "        text-align: right;\n",
              "    }\n",
              "</style>\n",
              "<table border=\"1\" class=\"dataframe\">\n",
              "  <thead>\n",
              "    <tr style=\"text-align: right;\">\n",
              "      <th></th>\n",
              "      <th>Ship Mode</th>\n",
              "      <th>Segment</th>\n",
              "      <th>Country</th>\n",
              "      <th>City</th>\n",
              "      <th>State</th>\n",
              "      <th>Postal Code</th>\n",
              "      <th>Region</th>\n",
              "      <th>Category</th>\n",
              "      <th>Sub-Category</th>\n",
              "      <th>Sales</th>\n",
              "      <th>Quantity</th>\n",
              "      <th>Discount</th>\n",
              "      <th>Profit</th>\n",
              "    </tr>\n",
              "  </thead>\n",
              "  <tbody>\n",
              "    <tr>\n",
              "      <th>0</th>\n",
              "      <td>Second Class</td>\n",
              "      <td>Consumer</td>\n",
              "      <td>United States</td>\n",
              "      <td>Henderson</td>\n",
              "      <td>Kentucky</td>\n",
              "      <td>42420</td>\n",
              "      <td>South</td>\n",
              "      <td>Furniture</td>\n",
              "      <td>Bookcases</td>\n",
              "      <td>261.9600</td>\n",
              "      <td>2</td>\n",
              "      <td>0.00</td>\n",
              "      <td>41.9136</td>\n",
              "    </tr>\n",
              "    <tr>\n",
              "      <th>1</th>\n",
              "      <td>Second Class</td>\n",
              "      <td>Consumer</td>\n",
              "      <td>United States</td>\n",
              "      <td>Henderson</td>\n",
              "      <td>Kentucky</td>\n",
              "      <td>42420</td>\n",
              "      <td>South</td>\n",
              "      <td>Furniture</td>\n",
              "      <td>Chairs</td>\n",
              "      <td>731.9400</td>\n",
              "      <td>3</td>\n",
              "      <td>0.00</td>\n",
              "      <td>219.5820</td>\n",
              "    </tr>\n",
              "    <tr>\n",
              "      <th>2</th>\n",
              "      <td>Second Class</td>\n",
              "      <td>Corporate</td>\n",
              "      <td>United States</td>\n",
              "      <td>Los Angeles</td>\n",
              "      <td>California</td>\n",
              "      <td>90036</td>\n",
              "      <td>West</td>\n",
              "      <td>Office Supplies</td>\n",
              "      <td>Labels</td>\n",
              "      <td>14.6200</td>\n",
              "      <td>2</td>\n",
              "      <td>0.00</td>\n",
              "      <td>6.8714</td>\n",
              "    </tr>\n",
              "    <tr>\n",
              "      <th>3</th>\n",
              "      <td>Standard Class</td>\n",
              "      <td>Consumer</td>\n",
              "      <td>United States</td>\n",
              "      <td>Fort Lauderdale</td>\n",
              "      <td>Florida</td>\n",
              "      <td>33311</td>\n",
              "      <td>South</td>\n",
              "      <td>Furniture</td>\n",
              "      <td>Tables</td>\n",
              "      <td>957.5775</td>\n",
              "      <td>5</td>\n",
              "      <td>0.45</td>\n",
              "      <td>-383.0310</td>\n",
              "    </tr>\n",
              "    <tr>\n",
              "      <th>4</th>\n",
              "      <td>Standard Class</td>\n",
              "      <td>Consumer</td>\n",
              "      <td>United States</td>\n",
              "      <td>Fort Lauderdale</td>\n",
              "      <td>Florida</td>\n",
              "      <td>33311</td>\n",
              "      <td>South</td>\n",
              "      <td>Office Supplies</td>\n",
              "      <td>Storage</td>\n",
              "      <td>22.3680</td>\n",
              "      <td>2</td>\n",
              "      <td>0.20</td>\n",
              "      <td>2.5164</td>\n",
              "    </tr>\n",
              "  </tbody>\n",
              "</table>\n",
              "</div>"
            ]
          },
          "metadata": {},
          "execution_count": 9
        }
      ],
      "metadata": {}
    },
    {
      "cell_type": "code",
      "execution_count": 10,
      "source": [
        "Retail_df.nunique()"
      ],
      "outputs": [
        {
          "output_type": "execute_result",
          "data": {
            "text/plain": [
              "Ship Mode          4\n",
              "Segment            3\n",
              "Country            1\n",
              "City             531\n",
              "State             49\n",
              "Postal Code      631\n",
              "Region             4\n",
              "Category           3\n",
              "Sub-Category      17\n",
              "Sales           5825\n",
              "Quantity          14\n",
              "Discount          12\n",
              "Profit          7287\n",
              "dtype: int64"
            ]
          },
          "metadata": {},
          "execution_count": 10
        }
      ],
      "metadata": {}
    },
    {
      "cell_type": "code",
      "execution_count": 11,
      "source": [
        "Retail_df.duplicated().sum()"
      ],
      "outputs": [
        {
          "output_type": "execute_result",
          "data": {
            "text/plain": [
              "17"
            ]
          },
          "metadata": {},
          "execution_count": 11
        }
      ],
      "metadata": {}
    },
    {
      "cell_type": "code",
      "execution_count": 12,
      "source": [
        "Retail_df.drop_duplicates()"
      ],
      "outputs": [
        {
          "output_type": "execute_result",
          "data": {
            "text/plain": [
              "           Ship Mode    Segment        Country             City       State  \\\n",
              "0       Second Class   Consumer  United States        Henderson    Kentucky   \n",
              "1       Second Class   Consumer  United States        Henderson    Kentucky   \n",
              "2       Second Class  Corporate  United States      Los Angeles  California   \n",
              "3     Standard Class   Consumer  United States  Fort Lauderdale     Florida   \n",
              "4     Standard Class   Consumer  United States  Fort Lauderdale     Florida   \n",
              "...              ...        ...            ...              ...         ...   \n",
              "9989    Second Class   Consumer  United States            Miami     Florida   \n",
              "9990  Standard Class   Consumer  United States       Costa Mesa  California   \n",
              "9991  Standard Class   Consumer  United States       Costa Mesa  California   \n",
              "9992  Standard Class   Consumer  United States       Costa Mesa  California   \n",
              "9993    Second Class   Consumer  United States      Westminster  California   \n",
              "\n",
              "      Postal Code Region         Category Sub-Category     Sales  Quantity  \\\n",
              "0           42420  South        Furniture    Bookcases  261.9600         2   \n",
              "1           42420  South        Furniture       Chairs  731.9400         3   \n",
              "2           90036   West  Office Supplies       Labels   14.6200         2   \n",
              "3           33311  South        Furniture       Tables  957.5775         5   \n",
              "4           33311  South  Office Supplies      Storage   22.3680         2   \n",
              "...           ...    ...              ...          ...       ...       ...   \n",
              "9989        33180  South        Furniture  Furnishings   25.2480         3   \n",
              "9990        92627   West        Furniture  Furnishings   91.9600         2   \n",
              "9991        92627   West       Technology       Phones  258.5760         2   \n",
              "9992        92627   West  Office Supplies        Paper   29.6000         4   \n",
              "9993        92683   West  Office Supplies   Appliances  243.1600         2   \n",
              "\n",
              "      Discount    Profit  \n",
              "0         0.00   41.9136  \n",
              "1         0.00  219.5820  \n",
              "2         0.00    6.8714  \n",
              "3         0.45 -383.0310  \n",
              "4         0.20    2.5164  \n",
              "...        ...       ...  \n",
              "9989      0.20    4.1028  \n",
              "9990      0.00   15.6332  \n",
              "9991      0.20   19.3932  \n",
              "9992      0.00   13.3200  \n",
              "9993      0.00   72.9480  \n",
              "\n",
              "[9977 rows x 13 columns]"
            ],
            "text/html": [
              "<div>\n",
              "<style scoped>\n",
              "    .dataframe tbody tr th:only-of-type {\n",
              "        vertical-align: middle;\n",
              "    }\n",
              "\n",
              "    .dataframe tbody tr th {\n",
              "        vertical-align: top;\n",
              "    }\n",
              "\n",
              "    .dataframe thead th {\n",
              "        text-align: right;\n",
              "    }\n",
              "</style>\n",
              "<table border=\"1\" class=\"dataframe\">\n",
              "  <thead>\n",
              "    <tr style=\"text-align: right;\">\n",
              "      <th></th>\n",
              "      <th>Ship Mode</th>\n",
              "      <th>Segment</th>\n",
              "      <th>Country</th>\n",
              "      <th>City</th>\n",
              "      <th>State</th>\n",
              "      <th>Postal Code</th>\n",
              "      <th>Region</th>\n",
              "      <th>Category</th>\n",
              "      <th>Sub-Category</th>\n",
              "      <th>Sales</th>\n",
              "      <th>Quantity</th>\n",
              "      <th>Discount</th>\n",
              "      <th>Profit</th>\n",
              "    </tr>\n",
              "  </thead>\n",
              "  <tbody>\n",
              "    <tr>\n",
              "      <th>0</th>\n",
              "      <td>Second Class</td>\n",
              "      <td>Consumer</td>\n",
              "      <td>United States</td>\n",
              "      <td>Henderson</td>\n",
              "      <td>Kentucky</td>\n",
              "      <td>42420</td>\n",
              "      <td>South</td>\n",
              "      <td>Furniture</td>\n",
              "      <td>Bookcases</td>\n",
              "      <td>261.9600</td>\n",
              "      <td>2</td>\n",
              "      <td>0.00</td>\n",
              "      <td>41.9136</td>\n",
              "    </tr>\n",
              "    <tr>\n",
              "      <th>1</th>\n",
              "      <td>Second Class</td>\n",
              "      <td>Consumer</td>\n",
              "      <td>United States</td>\n",
              "      <td>Henderson</td>\n",
              "      <td>Kentucky</td>\n",
              "      <td>42420</td>\n",
              "      <td>South</td>\n",
              "      <td>Furniture</td>\n",
              "      <td>Chairs</td>\n",
              "      <td>731.9400</td>\n",
              "      <td>3</td>\n",
              "      <td>0.00</td>\n",
              "      <td>219.5820</td>\n",
              "    </tr>\n",
              "    <tr>\n",
              "      <th>2</th>\n",
              "      <td>Second Class</td>\n",
              "      <td>Corporate</td>\n",
              "      <td>United States</td>\n",
              "      <td>Los Angeles</td>\n",
              "      <td>California</td>\n",
              "      <td>90036</td>\n",
              "      <td>West</td>\n",
              "      <td>Office Supplies</td>\n",
              "      <td>Labels</td>\n",
              "      <td>14.6200</td>\n",
              "      <td>2</td>\n",
              "      <td>0.00</td>\n",
              "      <td>6.8714</td>\n",
              "    </tr>\n",
              "    <tr>\n",
              "      <th>3</th>\n",
              "      <td>Standard Class</td>\n",
              "      <td>Consumer</td>\n",
              "      <td>United States</td>\n",
              "      <td>Fort Lauderdale</td>\n",
              "      <td>Florida</td>\n",
              "      <td>33311</td>\n",
              "      <td>South</td>\n",
              "      <td>Furniture</td>\n",
              "      <td>Tables</td>\n",
              "      <td>957.5775</td>\n",
              "      <td>5</td>\n",
              "      <td>0.45</td>\n",
              "      <td>-383.0310</td>\n",
              "    </tr>\n",
              "    <tr>\n",
              "      <th>4</th>\n",
              "      <td>Standard Class</td>\n",
              "      <td>Consumer</td>\n",
              "      <td>United States</td>\n",
              "      <td>Fort Lauderdale</td>\n",
              "      <td>Florida</td>\n",
              "      <td>33311</td>\n",
              "      <td>South</td>\n",
              "      <td>Office Supplies</td>\n",
              "      <td>Storage</td>\n",
              "      <td>22.3680</td>\n",
              "      <td>2</td>\n",
              "      <td>0.20</td>\n",
              "      <td>2.5164</td>\n",
              "    </tr>\n",
              "    <tr>\n",
              "      <th>...</th>\n",
              "      <td>...</td>\n",
              "      <td>...</td>\n",
              "      <td>...</td>\n",
              "      <td>...</td>\n",
              "      <td>...</td>\n",
              "      <td>...</td>\n",
              "      <td>...</td>\n",
              "      <td>...</td>\n",
              "      <td>...</td>\n",
              "      <td>...</td>\n",
              "      <td>...</td>\n",
              "      <td>...</td>\n",
              "      <td>...</td>\n",
              "    </tr>\n",
              "    <tr>\n",
              "      <th>9989</th>\n",
              "      <td>Second Class</td>\n",
              "      <td>Consumer</td>\n",
              "      <td>United States</td>\n",
              "      <td>Miami</td>\n",
              "      <td>Florida</td>\n",
              "      <td>33180</td>\n",
              "      <td>South</td>\n",
              "      <td>Furniture</td>\n",
              "      <td>Furnishings</td>\n",
              "      <td>25.2480</td>\n",
              "      <td>3</td>\n",
              "      <td>0.20</td>\n",
              "      <td>4.1028</td>\n",
              "    </tr>\n",
              "    <tr>\n",
              "      <th>9990</th>\n",
              "      <td>Standard Class</td>\n",
              "      <td>Consumer</td>\n",
              "      <td>United States</td>\n",
              "      <td>Costa Mesa</td>\n",
              "      <td>California</td>\n",
              "      <td>92627</td>\n",
              "      <td>West</td>\n",
              "      <td>Furniture</td>\n",
              "      <td>Furnishings</td>\n",
              "      <td>91.9600</td>\n",
              "      <td>2</td>\n",
              "      <td>0.00</td>\n",
              "      <td>15.6332</td>\n",
              "    </tr>\n",
              "    <tr>\n",
              "      <th>9991</th>\n",
              "      <td>Standard Class</td>\n",
              "      <td>Consumer</td>\n",
              "      <td>United States</td>\n",
              "      <td>Costa Mesa</td>\n",
              "      <td>California</td>\n",
              "      <td>92627</td>\n",
              "      <td>West</td>\n",
              "      <td>Technology</td>\n",
              "      <td>Phones</td>\n",
              "      <td>258.5760</td>\n",
              "      <td>2</td>\n",
              "      <td>0.20</td>\n",
              "      <td>19.3932</td>\n",
              "    </tr>\n",
              "    <tr>\n",
              "      <th>9992</th>\n",
              "      <td>Standard Class</td>\n",
              "      <td>Consumer</td>\n",
              "      <td>United States</td>\n",
              "      <td>Costa Mesa</td>\n",
              "      <td>California</td>\n",
              "      <td>92627</td>\n",
              "      <td>West</td>\n",
              "      <td>Office Supplies</td>\n",
              "      <td>Paper</td>\n",
              "      <td>29.6000</td>\n",
              "      <td>4</td>\n",
              "      <td>0.00</td>\n",
              "      <td>13.3200</td>\n",
              "    </tr>\n",
              "    <tr>\n",
              "      <th>9993</th>\n",
              "      <td>Second Class</td>\n",
              "      <td>Consumer</td>\n",
              "      <td>United States</td>\n",
              "      <td>Westminster</td>\n",
              "      <td>California</td>\n",
              "      <td>92683</td>\n",
              "      <td>West</td>\n",
              "      <td>Office Supplies</td>\n",
              "      <td>Appliances</td>\n",
              "      <td>243.1600</td>\n",
              "      <td>2</td>\n",
              "      <td>0.00</td>\n",
              "      <td>72.9480</td>\n",
              "    </tr>\n",
              "  </tbody>\n",
              "</table>\n",
              "<p>9977 rows × 13 columns</p>\n",
              "</div>"
            ]
          },
          "metadata": {},
          "execution_count": 12
        }
      ],
      "metadata": {}
    },
    {
      "cell_type": "code",
      "execution_count": 13,
      "source": [
        "Retail_df.duplicated().sum()"
      ],
      "outputs": [
        {
          "output_type": "execute_result",
          "data": {
            "text/plain": [
              "17"
            ]
          },
          "metadata": {},
          "execution_count": 13
        }
      ],
      "metadata": {}
    },
    {
      "cell_type": "code",
      "execution_count": 14,
      "source": [
        "Retail_df.shape"
      ],
      "outputs": [
        {
          "output_type": "execute_result",
          "data": {
            "text/plain": [
              "(9994, 13)"
            ]
          },
          "metadata": {},
          "execution_count": 14
        }
      ],
      "metadata": {}
    },
    {
      "cell_type": "code",
      "execution_count": 15,
      "source": [
        "Retail_df['City'].unique()"
      ],
      "outputs": [
        {
          "output_type": "execute_result",
          "data": {
            "text/plain": [
              "array(['Henderson', 'Los Angeles', 'Fort Lauderdale', 'Concord',\n",
              "       'Seattle', 'Fort Worth', 'Madison', 'West Jordan', 'San Francisco',\n",
              "       'Fremont', 'Philadelphia', 'Orem', 'Houston', 'Richardson',\n",
              "       'Naperville', 'Melbourne', 'Eagan', 'Westland', 'Dover',\n",
              "       'New Albany', 'New York City', 'Troy', 'Chicago', 'Gilbert',\n",
              "       'Springfield', 'Jackson', 'Memphis', 'Decatur', 'Durham',\n",
              "       'Columbia', 'Rochester', 'Minneapolis', 'Portland', 'Saint Paul',\n",
              "       'Aurora', 'Charlotte', 'Orland Park', 'Urbandale', 'Columbus',\n",
              "       'Bristol', 'Wilmington', 'Bloomington', 'Phoenix', 'Roseville',\n",
              "       'Independence', 'Pasadena', 'Newark', 'Franklin', 'Scottsdale',\n",
              "       'San Jose', 'Edmond', 'Carlsbad', 'San Antonio', 'Monroe',\n",
              "       'Fairfield', 'Grand Prairie', 'Redlands', 'Hamilton', 'Westfield',\n",
              "       'Akron', 'Denver', 'Dallas', 'Whittier', 'Saginaw', 'Medina',\n",
              "       'Dublin', 'Detroit', 'Tampa', 'Santa Clara', 'Lakeville',\n",
              "       'San Diego', 'Brentwood', 'Chapel Hill', 'Morristown',\n",
              "       'Cincinnati', 'Inglewood', 'Tamarac', 'Colorado Springs',\n",
              "       'Belleville', 'Taylor', 'Lakewood', 'Arlington', 'Arvada',\n",
              "       'Hackensack', 'Saint Petersburg', 'Long Beach', 'Hesperia',\n",
              "       'Murfreesboro', 'Layton', 'Austin', 'Lowell', 'Manchester',\n",
              "       'Harlingen', 'Tucson', 'Quincy', 'Pembroke Pines', 'Des Moines',\n",
              "       'Peoria', 'Las Vegas', 'Warwick', 'Miami', 'Huntington Beach',\n",
              "       'Richmond', 'Louisville', 'Lawrence', 'Canton', 'New Rochelle',\n",
              "       'Gastonia', 'Jacksonville', 'Auburn', 'Norman', 'Park Ridge',\n",
              "       'Amarillo', 'Lindenhurst', 'Huntsville', 'Fayetteville',\n",
              "       'Costa Mesa', 'Parker', 'Atlanta', 'Gladstone', 'Great Falls',\n",
              "       'Lakeland', 'Montgomery', 'Mesa', 'Green Bay', 'Anaheim',\n",
              "       'Marysville', 'Salem', 'Laredo', 'Grove City', 'Dearborn',\n",
              "       'Warner Robins', 'Vallejo', 'Mission Viejo', 'Rochester Hills',\n",
              "       'Plainfield', 'Sierra Vista', 'Vancouver', 'Cleveland', 'Tyler',\n",
              "       'Burlington', 'Waynesboro', 'Chester', 'Cary', 'Palm Coast',\n",
              "       'Mount Vernon', 'Hialeah', 'Oceanside', 'Evanston', 'Trenton',\n",
              "       'Cottage Grove', 'Bossier City', 'Lancaster', 'Asheville',\n",
              "       'Lake Elsinore', 'Omaha', 'Edmonds', 'Santa Ana', 'Milwaukee',\n",
              "       'Florence', 'Lorain', 'Linden', 'Salinas', 'New Brunswick',\n",
              "       'Garland', 'Norwich', 'Alexandria', 'Toledo', 'Farmington',\n",
              "       'Riverside', 'Torrance', 'Round Rock', 'Boca Raton',\n",
              "       'Virginia Beach', 'Murrieta', 'Olympia', 'Washington',\n",
              "       'Jefferson City', 'Saint Peters', 'Rockford', 'Brownsville',\n",
              "       'Yonkers', 'Oakland', 'Clinton', 'Encinitas', 'Roswell',\n",
              "       'Jonesboro', 'Antioch', 'Homestead', 'La Porte', 'Lansing',\n",
              "       'Cuyahoga Falls', 'Reno', 'Harrisonburg', 'Escondido', 'Royal Oak',\n",
              "       'Rockville', 'Coral Springs', 'Buffalo', 'Boynton Beach',\n",
              "       'Gulfport', 'Fresno', 'Greenville', 'Macon', 'Cedar Rapids',\n",
              "       'Providence', 'Pueblo', 'Deltona', 'Murray', 'Middletown',\n",
              "       'Freeport', 'Pico Rivera', 'Provo', 'Pleasant Grove', 'Smyrna',\n",
              "       'Parma', 'Mobile', 'New Bedford', 'Irving', 'Vineland', 'Glendale',\n",
              "       'Niagara Falls', 'Thomasville', 'Westminster', 'Coppell', 'Pomona',\n",
              "       'North Las Vegas', 'Allentown', 'Tempe', 'Laguna Niguel',\n",
              "       'Bridgeton', 'Everett', 'Watertown', 'Appleton', 'Bellevue',\n",
              "       'Allen', 'El Paso', 'Grapevine', 'Carrollton', 'Kent', 'Lafayette',\n",
              "       'Tigard', 'Skokie', 'Plano', 'Suffolk', 'Indianapolis', 'Bayonne',\n",
              "       'Greensboro', 'Baltimore', 'Kenosha', 'Olathe', 'Tulsa', 'Redmond',\n",
              "       'Raleigh', 'Muskogee', 'Meriden', 'Bowling Green', 'South Bend',\n",
              "       'Spokane', 'Keller', 'Port Orange', 'Medford', 'Charlottesville',\n",
              "       'Missoula', 'Apopka', 'Reading', 'Broomfield', 'Paterson',\n",
              "       'Oklahoma City', 'Chesapeake', 'Lubbock', 'Johnson City',\n",
              "       'San Bernardino', 'Leominster', 'Bozeman', 'Perth Amboy',\n",
              "       'Ontario', 'Rancho Cucamonga', 'Moorhead', 'Mesquite', 'Stockton',\n",
              "       'Ormond Beach', 'Sunnyvale', 'York', 'College Station',\n",
              "       'Saint Louis', 'Manteca', 'San Angelo', 'Salt Lake City',\n",
              "       'Knoxville', 'Little Rock', 'Lincoln Park', 'Marion', 'Littleton',\n",
              "       'Bangor', 'Southaven', 'New Castle', 'Midland', 'Sioux Falls',\n",
              "       'Fort Collins', 'Clarksville', 'Sacramento', 'Thousand Oaks',\n",
              "       'Malden', 'Holyoke', 'Albuquerque', 'Sparks', 'Coachella',\n",
              "       'Elmhurst', 'Passaic', 'North Charleston', 'Newport News',\n",
              "       'Jamestown', 'Mishawaka', 'La Quinta', 'Tallahassee', 'Nashville',\n",
              "       'Bellingham', 'Woodstock', 'Haltom City', 'Wheeling',\n",
              "       'Summerville', 'Hot Springs', 'Englewood', 'Las Cruces', 'Hoover',\n",
              "       'Frisco', 'Vacaville', 'Waukesha', 'Bakersfield', 'Pompano Beach',\n",
              "       'Corpus Christi', 'Redondo Beach', 'Orlando', 'Orange',\n",
              "       'Lake Charles', 'Highland Park', 'Hempstead', 'Noblesville',\n",
              "       'Apple Valley', 'Mount Pleasant', 'Sterling Heights', 'Eau Claire',\n",
              "       'Pharr', 'Billings', 'Gresham', 'Chattanooga', 'Meridian',\n",
              "       'Bolingbrook', 'Maple Grove', 'Woodland', 'Missouri City',\n",
              "       'Pearland', 'San Mateo', 'Grand Rapids', 'Visalia',\n",
              "       'Overland Park', 'Temecula', 'Yucaipa', 'Revere', 'Conroe',\n",
              "       'Tinley Park', 'Dubuque', 'Dearborn Heights', 'Santa Fe',\n",
              "       'Hickory', 'Carol Stream', 'Saint Cloud', 'North Miami',\n",
              "       'Plantation', 'Port Saint Lucie', 'Rock Hill', 'Odessa',\n",
              "       'West Allis', 'Chula Vista', 'Manhattan', 'Altoona', 'Thornton',\n",
              "       'Champaign', 'Texarkana', 'Edinburg', 'Baytown', 'Greenwood',\n",
              "       'Woonsocket', 'Superior', 'Bedford', 'Covington', 'Broken Arrow',\n",
              "       'Miramar', 'Hollywood', 'Deer Park', 'Wichita', 'Mcallen',\n",
              "       'Iowa City', 'Boise', 'Cranston', 'Port Arthur', 'Citrus Heights',\n",
              "       'The Colony', 'Daytona Beach', 'Bullhead City', 'Portage', 'Fargo',\n",
              "       'Elkhart', 'San Gabriel', 'Margate', 'Sandy Springs', 'Mentor',\n",
              "       'Lawton', 'Hampton', 'Rome', 'La Crosse', 'Lewiston',\n",
              "       'Hattiesburg', 'Danville', 'Logan', 'Waterbury', 'Athens',\n",
              "       'Avondale', 'Marietta', 'Yuma', 'Wausau', 'Pasco', 'Oak Park',\n",
              "       'Pensacola', 'League City', 'Gaithersburg', 'Lehi', 'Tuscaloosa',\n",
              "       'Moreno Valley', 'Georgetown', 'Loveland', 'Chandler', 'Helena',\n",
              "       'Kirkwood', 'Waco', 'Frankfort', 'Bethlehem', 'Grand Island',\n",
              "       'Woodbury', 'Rogers', 'Clovis', 'Jupiter', 'Santa Barbara',\n",
              "       'Cedar Hill', 'Norfolk', 'Draper', 'Ann Arbor', 'La Mesa',\n",
              "       'Pocatello', 'Holland', 'Milford', 'Buffalo Grove', 'Lake Forest',\n",
              "       'Redding', 'Chico', 'Utica', 'Conway', 'Cheyenne', 'Owensboro',\n",
              "       'Caldwell', 'Kenner', 'Nashua', 'Bartlett', 'Redwood City',\n",
              "       'Lebanon', 'Santa Maria', 'Des Plaines', 'Longview',\n",
              "       'Hendersonville', 'Waterloo', 'Cambridge', 'Palatine', 'Beverly',\n",
              "       'Eugene', 'Oxnard', 'Renton', 'Glenview', 'Delray Beach',\n",
              "       'Commerce City', 'Texas City', 'Wilson', 'Rio Rancho', 'Goldsboro',\n",
              "       'Montebello', 'El Cajon', 'Beaumont', 'West Palm Beach', 'Abilene',\n",
              "       'Normal', 'Saint Charles', 'Camarillo', 'Hillsboro', 'Burbank',\n",
              "       'Modesto', 'Garden City', 'Atlantic City', 'Longmont', 'Davis',\n",
              "       'Morgan Hill', 'Clifton', 'Sheboygan', 'East Point', 'Rapid City',\n",
              "       'Andover', 'Kissimmee', 'Shelton', 'Danbury', 'Sanford',\n",
              "       'San Marcos', 'Greeley', 'Mansfield', 'Elyria', 'Twin Falls',\n",
              "       'Coral Gables', 'Romeoville', 'Marlborough', 'Laurel', 'Bryan',\n",
              "       'Pine Bluff', 'Aberdeen', 'Hagerstown', 'East Orange',\n",
              "       'Arlington Heights', 'Oswego', 'Coon Rapids', 'San Clemente',\n",
              "       'San Luis Obispo', 'Springdale', 'Lodi', 'Mason'], dtype=object)"
            ]
          },
          "metadata": {},
          "execution_count": 15
        }
      ],
      "metadata": {}
    },
    {
      "cell_type": "code",
      "execution_count": 16,
      "source": [
        "Retail_df.head()"
      ],
      "outputs": [
        {
          "output_type": "execute_result",
          "data": {
            "text/plain": [
              "        Ship Mode    Segment        Country             City       State  \\\n",
              "0    Second Class   Consumer  United States        Henderson    Kentucky   \n",
              "1    Second Class   Consumer  United States        Henderson    Kentucky   \n",
              "2    Second Class  Corporate  United States      Los Angeles  California   \n",
              "3  Standard Class   Consumer  United States  Fort Lauderdale     Florida   \n",
              "4  Standard Class   Consumer  United States  Fort Lauderdale     Florida   \n",
              "\n",
              "   Postal Code Region         Category Sub-Category     Sales  Quantity  \\\n",
              "0        42420  South        Furniture    Bookcases  261.9600         2   \n",
              "1        42420  South        Furniture       Chairs  731.9400         3   \n",
              "2        90036   West  Office Supplies       Labels   14.6200         2   \n",
              "3        33311  South        Furniture       Tables  957.5775         5   \n",
              "4        33311  South  Office Supplies      Storage   22.3680         2   \n",
              "\n",
              "   Discount    Profit  \n",
              "0      0.00   41.9136  \n",
              "1      0.00  219.5820  \n",
              "2      0.00    6.8714  \n",
              "3      0.45 -383.0310  \n",
              "4      0.20    2.5164  "
            ],
            "text/html": [
              "<div>\n",
              "<style scoped>\n",
              "    .dataframe tbody tr th:only-of-type {\n",
              "        vertical-align: middle;\n",
              "    }\n",
              "\n",
              "    .dataframe tbody tr th {\n",
              "        vertical-align: top;\n",
              "    }\n",
              "\n",
              "    .dataframe thead th {\n",
              "        text-align: right;\n",
              "    }\n",
              "</style>\n",
              "<table border=\"1\" class=\"dataframe\">\n",
              "  <thead>\n",
              "    <tr style=\"text-align: right;\">\n",
              "      <th></th>\n",
              "      <th>Ship Mode</th>\n",
              "      <th>Segment</th>\n",
              "      <th>Country</th>\n",
              "      <th>City</th>\n",
              "      <th>State</th>\n",
              "      <th>Postal Code</th>\n",
              "      <th>Region</th>\n",
              "      <th>Category</th>\n",
              "      <th>Sub-Category</th>\n",
              "      <th>Sales</th>\n",
              "      <th>Quantity</th>\n",
              "      <th>Discount</th>\n",
              "      <th>Profit</th>\n",
              "    </tr>\n",
              "  </thead>\n",
              "  <tbody>\n",
              "    <tr>\n",
              "      <th>0</th>\n",
              "      <td>Second Class</td>\n",
              "      <td>Consumer</td>\n",
              "      <td>United States</td>\n",
              "      <td>Henderson</td>\n",
              "      <td>Kentucky</td>\n",
              "      <td>42420</td>\n",
              "      <td>South</td>\n",
              "      <td>Furniture</td>\n",
              "      <td>Bookcases</td>\n",
              "      <td>261.9600</td>\n",
              "      <td>2</td>\n",
              "      <td>0.00</td>\n",
              "      <td>41.9136</td>\n",
              "    </tr>\n",
              "    <tr>\n",
              "      <th>1</th>\n",
              "      <td>Second Class</td>\n",
              "      <td>Consumer</td>\n",
              "      <td>United States</td>\n",
              "      <td>Henderson</td>\n",
              "      <td>Kentucky</td>\n",
              "      <td>42420</td>\n",
              "      <td>South</td>\n",
              "      <td>Furniture</td>\n",
              "      <td>Chairs</td>\n",
              "      <td>731.9400</td>\n",
              "      <td>3</td>\n",
              "      <td>0.00</td>\n",
              "      <td>219.5820</td>\n",
              "    </tr>\n",
              "    <tr>\n",
              "      <th>2</th>\n",
              "      <td>Second Class</td>\n",
              "      <td>Corporate</td>\n",
              "      <td>United States</td>\n",
              "      <td>Los Angeles</td>\n",
              "      <td>California</td>\n",
              "      <td>90036</td>\n",
              "      <td>West</td>\n",
              "      <td>Office Supplies</td>\n",
              "      <td>Labels</td>\n",
              "      <td>14.6200</td>\n",
              "      <td>2</td>\n",
              "      <td>0.00</td>\n",
              "      <td>6.8714</td>\n",
              "    </tr>\n",
              "    <tr>\n",
              "      <th>3</th>\n",
              "      <td>Standard Class</td>\n",
              "      <td>Consumer</td>\n",
              "      <td>United States</td>\n",
              "      <td>Fort Lauderdale</td>\n",
              "      <td>Florida</td>\n",
              "      <td>33311</td>\n",
              "      <td>South</td>\n",
              "      <td>Furniture</td>\n",
              "      <td>Tables</td>\n",
              "      <td>957.5775</td>\n",
              "      <td>5</td>\n",
              "      <td>0.45</td>\n",
              "      <td>-383.0310</td>\n",
              "    </tr>\n",
              "    <tr>\n",
              "      <th>4</th>\n",
              "      <td>Standard Class</td>\n",
              "      <td>Consumer</td>\n",
              "      <td>United States</td>\n",
              "      <td>Fort Lauderdale</td>\n",
              "      <td>Florida</td>\n",
              "      <td>33311</td>\n",
              "      <td>South</td>\n",
              "      <td>Office Supplies</td>\n",
              "      <td>Storage</td>\n",
              "      <td>22.3680</td>\n",
              "      <td>2</td>\n",
              "      <td>0.20</td>\n",
              "      <td>2.5164</td>\n",
              "    </tr>\n",
              "  </tbody>\n",
              "</table>\n",
              "</div>"
            ]
          },
          "metadata": {},
          "execution_count": 16
        }
      ],
      "metadata": {}
    },
    {
      "cell_type": "code",
      "execution_count": 17,
      "source": [
        "Retail_df['Category'].unique()"
      ],
      "outputs": [
        {
          "output_type": "execute_result",
          "data": {
            "text/plain": [
              "array(['Furniture', 'Office Supplies', 'Technology'], dtype=object)"
            ]
          },
          "metadata": {},
          "execution_count": 17
        }
      ],
      "metadata": {}
    },
    {
      "cell_type": "code",
      "execution_count": 18,
      "source": [
        "Retail_df['Category'].value_counts()"
      ],
      "outputs": [
        {
          "output_type": "execute_result",
          "data": {
            "text/plain": [
              "Office Supplies    6026\n",
              "Furniture          2121\n",
              "Technology         1847\n",
              "Name: Category, dtype: int64"
            ]
          },
          "metadata": {},
          "execution_count": 18
        }
      ],
      "metadata": {}
    },
    {
      "cell_type": "code",
      "execution_count": 19,
      "source": [
        "Retail_df['State'].unique()"
      ],
      "outputs": [
        {
          "output_type": "execute_result",
          "data": {
            "text/plain": [
              "array(['Kentucky', 'California', 'Florida', 'North Carolina',\n",
              "       'Washington', 'Texas', 'Wisconsin', 'Utah', 'Nebraska',\n",
              "       'Pennsylvania', 'Illinois', 'Minnesota', 'Michigan', 'Delaware',\n",
              "       'Indiana', 'New York', 'Arizona', 'Virginia', 'Tennessee',\n",
              "       'Alabama', 'South Carolina', 'Oregon', 'Colorado', 'Iowa', 'Ohio',\n",
              "       'Missouri', 'Oklahoma', 'New Mexico', 'Louisiana', 'Connecticut',\n",
              "       'New Jersey', 'Massachusetts', 'Georgia', 'Nevada', 'Rhode Island',\n",
              "       'Mississippi', 'Arkansas', 'Montana', 'New Hampshire', 'Maryland',\n",
              "       'District of Columbia', 'Kansas', 'Vermont', 'Maine',\n",
              "       'South Dakota', 'Idaho', 'North Dakota', 'Wyoming',\n",
              "       'West Virginia'], dtype=object)"
            ]
          },
          "metadata": {},
          "execution_count": 19
        }
      ],
      "metadata": {}
    },
    {
      "cell_type": "code",
      "execution_count": 20,
      "source": [
        "Retail_df['State'].value_counts()"
      ],
      "outputs": [
        {
          "output_type": "execute_result",
          "data": {
            "text/plain": [
              "California              2001\n",
              "New York                1128\n",
              "Texas                    985\n",
              "Pennsylvania             587\n",
              "Washington               506\n",
              "Illinois                 492\n",
              "Ohio                     469\n",
              "Florida                  383\n",
              "Michigan                 255\n",
              "North Carolina           249\n",
              "Arizona                  224\n",
              "Virginia                 224\n",
              "Georgia                  184\n",
              "Tennessee                183\n",
              "Colorado                 182\n",
              "Indiana                  149\n",
              "Kentucky                 139\n",
              "Massachusetts            135\n",
              "New Jersey               130\n",
              "Oregon                   124\n",
              "Wisconsin                110\n",
              "Maryland                 105\n",
              "Delaware                  96\n",
              "Minnesota                 89\n",
              "Connecticut               82\n",
              "Oklahoma                  66\n",
              "Missouri                  66\n",
              "Alabama                   61\n",
              "Arkansas                  60\n",
              "Rhode Island              56\n",
              "Utah                      53\n",
              "Mississippi               53\n",
              "Louisiana                 42\n",
              "South Carolina            42\n",
              "Nevada                    39\n",
              "Nebraska                  38\n",
              "New Mexico                37\n",
              "Iowa                      30\n",
              "New Hampshire             27\n",
              "Kansas                    24\n",
              "Idaho                     21\n",
              "Montana                   15\n",
              "South Dakota              12\n",
              "Vermont                   11\n",
              "District of Columbia      10\n",
              "Maine                      8\n",
              "North Dakota               7\n",
              "West Virginia              4\n",
              "Wyoming                    1\n",
              "Name: State, dtype: int64"
            ]
          },
          "metadata": {},
          "execution_count": 20
        }
      ],
      "metadata": {}
    },
    {
      "cell_type": "code",
      "execution_count": 21,
      "source": [
        "State = Retail_df['State'].value_counts(ascending=False)\r\n",
        "State_lessthan300 = State[State< 300]\r\n",
        "\r\n",
        "\r\n",
        "def handle_State(value):\r\n",
        "    if(value in State_lessthan300):\r\n",
        "        return 'others'\r\n",
        "    else:\r\n",
        "        return value\r\n",
        "\r\n",
        "\r\n",
        "Retail_df['State'] = Retail_df['State'].apply(handle_State)\r\n",
        "Retail_df['State'].value_counts()\r\n"
      ],
      "outputs": [
        {
          "output_type": "execute_result",
          "data": {
            "text/plain": [
              "others          3443\n",
              "California      2001\n",
              "New York        1128\n",
              "Texas            985\n",
              "Pennsylvania     587\n",
              "Washington       506\n",
              "Illinois         492\n",
              "Ohio             469\n",
              "Florida          383\n",
              "Name: State, dtype: int64"
            ]
          },
          "metadata": {},
          "execution_count": 21
        }
      ],
      "metadata": {}
    },
    {
      "cell_type": "code",
      "execution_count": 22,
      "source": [
        "Retail_df['City'].value_counts()"
      ],
      "outputs": [
        {
          "output_type": "execute_result",
          "data": {
            "text/plain": [
              "New York City      915\n",
              "Los Angeles        747\n",
              "Philadelphia       537\n",
              "San Francisco      510\n",
              "Seattle            428\n",
              "                  ... \n",
              "Glenview             1\n",
              "Missouri City        1\n",
              "Rochester Hills      1\n",
              "Palatine             1\n",
              "Manhattan            1\n",
              "Name: City, Length: 531, dtype: int64"
            ]
          },
          "metadata": {},
          "execution_count": 22
        }
      ],
      "metadata": {}
    },
    {
      "cell_type": "code",
      "execution_count": 23,
      "source": [
        "City = Retail_df['City'].value_counts(ascending=False)\r\n",
        "City_lessthan50 = City[City<50]\r\n",
        "\r\n",
        "def handle_city(value):\r\n",
        "    if(value in City_lessthan50):\r\n",
        "        return 'others'\r\n",
        "    else:\r\n",
        "        return value\r\n",
        "\r\n",
        "Retail_df['City'] = Retail_df['City'].apply(handle_city)\r\n",
        "Retail_df['City'].value_counts()"
      ],
      "outputs": [
        {
          "output_type": "execute_result",
          "data": {
            "text/plain": [
              "others           4285\n",
              "New York City     915\n",
              "Los Angeles       747\n",
              "Philadelphia      537\n",
              "San Francisco     510\n",
              "Seattle           428\n",
              "Houston           377\n",
              "Chicago           314\n",
              "Columbus          222\n",
              "San Diego         170\n",
              "Springfield       163\n",
              "Dallas            157\n",
              "Jacksonville      125\n",
              "Detroit           115\n",
              "Newark             95\n",
              "Richmond           90\n",
              "Jackson            82\n",
              "Columbia           81\n",
              "Aurora             68\n",
              "Phoenix            63\n",
              "Long Beach         61\n",
              "Arlington          60\n",
              "San Antonio        59\n",
              "Louisville         57\n",
              "Miami              57\n",
              "Rochester          53\n",
              "Charlotte          52\n",
              "Henderson          51\n",
              "Name: City, dtype: int64"
            ]
          },
          "metadata": {},
          "execution_count": 23
        }
      ],
      "metadata": {}
    },
    {
      "cell_type": "code",
      "execution_count": 24,
      "source": [
        "Retail_df['City'].unique()"
      ],
      "outputs": [
        {
          "output_type": "execute_result",
          "data": {
            "text/plain": [
              "array(['Henderson', 'Los Angeles', 'others', 'Seattle', 'San Francisco',\n",
              "       'Philadelphia', 'Houston', 'New York City', 'Chicago',\n",
              "       'Springfield', 'Jackson', 'Columbia', 'Rochester', 'Aurora',\n",
              "       'Charlotte', 'Columbus', 'Phoenix', 'Newark', 'San Antonio',\n",
              "       'Dallas', 'Detroit', 'San Diego', 'Arlington', 'Long Beach',\n",
              "       'Miami', 'Richmond', 'Louisville', 'Jacksonville'], dtype=object)"
            ]
          },
          "metadata": {},
          "execution_count": 24
        }
      ],
      "metadata": {}
    },
    {
      "cell_type": "code",
      "execution_count": 25,
      "source": [
        "Retail_df.head()"
      ],
      "outputs": [
        {
          "output_type": "execute_result",
          "data": {
            "text/plain": [
              "        Ship Mode    Segment        Country         City       State  \\\n",
              "0    Second Class   Consumer  United States    Henderson      others   \n",
              "1    Second Class   Consumer  United States    Henderson      others   \n",
              "2    Second Class  Corporate  United States  Los Angeles  California   \n",
              "3  Standard Class   Consumer  United States       others     Florida   \n",
              "4  Standard Class   Consumer  United States       others     Florida   \n",
              "\n",
              "   Postal Code Region         Category Sub-Category     Sales  Quantity  \\\n",
              "0        42420  South        Furniture    Bookcases  261.9600         2   \n",
              "1        42420  South        Furniture       Chairs  731.9400         3   \n",
              "2        90036   West  Office Supplies       Labels   14.6200         2   \n",
              "3        33311  South        Furniture       Tables  957.5775         5   \n",
              "4        33311  South  Office Supplies      Storage   22.3680         2   \n",
              "\n",
              "   Discount    Profit  \n",
              "0      0.00   41.9136  \n",
              "1      0.00  219.5820  \n",
              "2      0.00    6.8714  \n",
              "3      0.45 -383.0310  \n",
              "4      0.20    2.5164  "
            ],
            "text/html": [
              "<div>\n",
              "<style scoped>\n",
              "    .dataframe tbody tr th:only-of-type {\n",
              "        vertical-align: middle;\n",
              "    }\n",
              "\n",
              "    .dataframe tbody tr th {\n",
              "        vertical-align: top;\n",
              "    }\n",
              "\n",
              "    .dataframe thead th {\n",
              "        text-align: right;\n",
              "    }\n",
              "</style>\n",
              "<table border=\"1\" class=\"dataframe\">\n",
              "  <thead>\n",
              "    <tr style=\"text-align: right;\">\n",
              "      <th></th>\n",
              "      <th>Ship Mode</th>\n",
              "      <th>Segment</th>\n",
              "      <th>Country</th>\n",
              "      <th>City</th>\n",
              "      <th>State</th>\n",
              "      <th>Postal Code</th>\n",
              "      <th>Region</th>\n",
              "      <th>Category</th>\n",
              "      <th>Sub-Category</th>\n",
              "      <th>Sales</th>\n",
              "      <th>Quantity</th>\n",
              "      <th>Discount</th>\n",
              "      <th>Profit</th>\n",
              "    </tr>\n",
              "  </thead>\n",
              "  <tbody>\n",
              "    <tr>\n",
              "      <th>0</th>\n",
              "      <td>Second Class</td>\n",
              "      <td>Consumer</td>\n",
              "      <td>United States</td>\n",
              "      <td>Henderson</td>\n",
              "      <td>others</td>\n",
              "      <td>42420</td>\n",
              "      <td>South</td>\n",
              "      <td>Furniture</td>\n",
              "      <td>Bookcases</td>\n",
              "      <td>261.9600</td>\n",
              "      <td>2</td>\n",
              "      <td>0.00</td>\n",
              "      <td>41.9136</td>\n",
              "    </tr>\n",
              "    <tr>\n",
              "      <th>1</th>\n",
              "      <td>Second Class</td>\n",
              "      <td>Consumer</td>\n",
              "      <td>United States</td>\n",
              "      <td>Henderson</td>\n",
              "      <td>others</td>\n",
              "      <td>42420</td>\n",
              "      <td>South</td>\n",
              "      <td>Furniture</td>\n",
              "      <td>Chairs</td>\n",
              "      <td>731.9400</td>\n",
              "      <td>3</td>\n",
              "      <td>0.00</td>\n",
              "      <td>219.5820</td>\n",
              "    </tr>\n",
              "    <tr>\n",
              "      <th>2</th>\n",
              "      <td>Second Class</td>\n",
              "      <td>Corporate</td>\n",
              "      <td>United States</td>\n",
              "      <td>Los Angeles</td>\n",
              "      <td>California</td>\n",
              "      <td>90036</td>\n",
              "      <td>West</td>\n",
              "      <td>Office Supplies</td>\n",
              "      <td>Labels</td>\n",
              "      <td>14.6200</td>\n",
              "      <td>2</td>\n",
              "      <td>0.00</td>\n",
              "      <td>6.8714</td>\n",
              "    </tr>\n",
              "    <tr>\n",
              "      <th>3</th>\n",
              "      <td>Standard Class</td>\n",
              "      <td>Consumer</td>\n",
              "      <td>United States</td>\n",
              "      <td>others</td>\n",
              "      <td>Florida</td>\n",
              "      <td>33311</td>\n",
              "      <td>South</td>\n",
              "      <td>Furniture</td>\n",
              "      <td>Tables</td>\n",
              "      <td>957.5775</td>\n",
              "      <td>5</td>\n",
              "      <td>0.45</td>\n",
              "      <td>-383.0310</td>\n",
              "    </tr>\n",
              "    <tr>\n",
              "      <th>4</th>\n",
              "      <td>Standard Class</td>\n",
              "      <td>Consumer</td>\n",
              "      <td>United States</td>\n",
              "      <td>others</td>\n",
              "      <td>Florida</td>\n",
              "      <td>33311</td>\n",
              "      <td>South</td>\n",
              "      <td>Office Supplies</td>\n",
              "      <td>Storage</td>\n",
              "      <td>22.3680</td>\n",
              "      <td>2</td>\n",
              "      <td>0.20</td>\n",
              "      <td>2.5164</td>\n",
              "    </tr>\n",
              "  </tbody>\n",
              "</table>\n",
              "</div>"
            ]
          },
          "metadata": {},
          "execution_count": 25
        }
      ],
      "metadata": {}
    },
    {
      "cell_type": "code",
      "execution_count": 26,
      "source": [
        "Retail_df['Postal Code'].value_counts()"
      ],
      "outputs": [
        {
          "output_type": "execute_result",
          "data": {
            "text/plain": [
              "10035    263\n",
              "10024    230\n",
              "10009    229\n",
              "94122    203\n",
              "10011    193\n",
              "        ... \n",
              "27534      1\n",
              "53186      1\n",
              "32503      1\n",
              "94509      1\n",
              "63376      1\n",
              "Name: Postal Code, Length: 631, dtype: int64"
            ]
          },
          "metadata": {},
          "execution_count": 26
        }
      ],
      "metadata": {}
    },
    {
      "cell_type": "code",
      "execution_count": 27,
      "source": [
        "Retail_df.rename(columns= {'Postal Code':'PostalCode'}, inplace =True)\r\n",
        "Retail_df.head()"
      ],
      "outputs": [
        {
          "output_type": "execute_result",
          "data": {
            "text/plain": [
              "        Ship Mode    Segment        Country         City       State  \\\n",
              "0    Second Class   Consumer  United States    Henderson      others   \n",
              "1    Second Class   Consumer  United States    Henderson      others   \n",
              "2    Second Class  Corporate  United States  Los Angeles  California   \n",
              "3  Standard Class   Consumer  United States       others     Florida   \n",
              "4  Standard Class   Consumer  United States       others     Florida   \n",
              "\n",
              "   PostalCode Region         Category Sub-Category     Sales  Quantity  \\\n",
              "0       42420  South        Furniture    Bookcases  261.9600         2   \n",
              "1       42420  South        Furniture       Chairs  731.9400         3   \n",
              "2       90036   West  Office Supplies       Labels   14.6200         2   \n",
              "3       33311  South        Furniture       Tables  957.5775         5   \n",
              "4       33311  South  Office Supplies      Storage   22.3680         2   \n",
              "\n",
              "   Discount    Profit  \n",
              "0      0.00   41.9136  \n",
              "1      0.00  219.5820  \n",
              "2      0.00    6.8714  \n",
              "3      0.45 -383.0310  \n",
              "4      0.20    2.5164  "
            ],
            "text/html": [
              "<div>\n",
              "<style scoped>\n",
              "    .dataframe tbody tr th:only-of-type {\n",
              "        vertical-align: middle;\n",
              "    }\n",
              "\n",
              "    .dataframe tbody tr th {\n",
              "        vertical-align: top;\n",
              "    }\n",
              "\n",
              "    .dataframe thead th {\n",
              "        text-align: right;\n",
              "    }\n",
              "</style>\n",
              "<table border=\"1\" class=\"dataframe\">\n",
              "  <thead>\n",
              "    <tr style=\"text-align: right;\">\n",
              "      <th></th>\n",
              "      <th>Ship Mode</th>\n",
              "      <th>Segment</th>\n",
              "      <th>Country</th>\n",
              "      <th>City</th>\n",
              "      <th>State</th>\n",
              "      <th>PostalCode</th>\n",
              "      <th>Region</th>\n",
              "      <th>Category</th>\n",
              "      <th>Sub-Category</th>\n",
              "      <th>Sales</th>\n",
              "      <th>Quantity</th>\n",
              "      <th>Discount</th>\n",
              "      <th>Profit</th>\n",
              "    </tr>\n",
              "  </thead>\n",
              "  <tbody>\n",
              "    <tr>\n",
              "      <th>0</th>\n",
              "      <td>Second Class</td>\n",
              "      <td>Consumer</td>\n",
              "      <td>United States</td>\n",
              "      <td>Henderson</td>\n",
              "      <td>others</td>\n",
              "      <td>42420</td>\n",
              "      <td>South</td>\n",
              "      <td>Furniture</td>\n",
              "      <td>Bookcases</td>\n",
              "      <td>261.9600</td>\n",
              "      <td>2</td>\n",
              "      <td>0.00</td>\n",
              "      <td>41.9136</td>\n",
              "    </tr>\n",
              "    <tr>\n",
              "      <th>1</th>\n",
              "      <td>Second Class</td>\n",
              "      <td>Consumer</td>\n",
              "      <td>United States</td>\n",
              "      <td>Henderson</td>\n",
              "      <td>others</td>\n",
              "      <td>42420</td>\n",
              "      <td>South</td>\n",
              "      <td>Furniture</td>\n",
              "      <td>Chairs</td>\n",
              "      <td>731.9400</td>\n",
              "      <td>3</td>\n",
              "      <td>0.00</td>\n",
              "      <td>219.5820</td>\n",
              "    </tr>\n",
              "    <tr>\n",
              "      <th>2</th>\n",
              "      <td>Second Class</td>\n",
              "      <td>Corporate</td>\n",
              "      <td>United States</td>\n",
              "      <td>Los Angeles</td>\n",
              "      <td>California</td>\n",
              "      <td>90036</td>\n",
              "      <td>West</td>\n",
              "      <td>Office Supplies</td>\n",
              "      <td>Labels</td>\n",
              "      <td>14.6200</td>\n",
              "      <td>2</td>\n",
              "      <td>0.00</td>\n",
              "      <td>6.8714</td>\n",
              "    </tr>\n",
              "    <tr>\n",
              "      <th>3</th>\n",
              "      <td>Standard Class</td>\n",
              "      <td>Consumer</td>\n",
              "      <td>United States</td>\n",
              "      <td>others</td>\n",
              "      <td>Florida</td>\n",
              "      <td>33311</td>\n",
              "      <td>South</td>\n",
              "      <td>Furniture</td>\n",
              "      <td>Tables</td>\n",
              "      <td>957.5775</td>\n",
              "      <td>5</td>\n",
              "      <td>0.45</td>\n",
              "      <td>-383.0310</td>\n",
              "    </tr>\n",
              "    <tr>\n",
              "      <th>4</th>\n",
              "      <td>Standard Class</td>\n",
              "      <td>Consumer</td>\n",
              "      <td>United States</td>\n",
              "      <td>others</td>\n",
              "      <td>Florida</td>\n",
              "      <td>33311</td>\n",
              "      <td>South</td>\n",
              "      <td>Office Supplies</td>\n",
              "      <td>Storage</td>\n",
              "      <td>22.3680</td>\n",
              "      <td>2</td>\n",
              "      <td>0.20</td>\n",
              "      <td>2.5164</td>\n",
              "    </tr>\n",
              "  </tbody>\n",
              "</table>\n",
              "</div>"
            ]
          },
          "metadata": {},
          "execution_count": 27
        }
      ],
      "metadata": {}
    },
    {
      "cell_type": "code",
      "execution_count": 28,
      "source": [
        "Retail_df['PostalCode'].value_counts()"
      ],
      "outputs": [
        {
          "output_type": "execute_result",
          "data": {
            "text/plain": [
              "10035    263\n",
              "10024    230\n",
              "10009    229\n",
              "94122    203\n",
              "10011    193\n",
              "        ... \n",
              "27534      1\n",
              "53186      1\n",
              "32503      1\n",
              "94509      1\n",
              "63376      1\n",
              "Name: PostalCode, Length: 631, dtype: int64"
            ]
          },
          "metadata": {},
          "execution_count": 28
        }
      ],
      "metadata": {}
    },
    {
      "cell_type": "code",
      "execution_count": 29,
      "source": [
        "PostalCode = Retail_df['PostalCode'].value_counts(ascending = False)\r\n",
        "PostalCode_lessthan200 = PostalCode[PostalCode <200]\r\n",
        "\r\n",
        "def handle_PostalCode(value):\r\n",
        "    if (value in PostalCode_lessthan200):\r\n",
        "        return 'others'\r\n",
        "    else:\r\n",
        "        return value\r\n",
        "\r\n",
        "Retail_df['PostalCode'] = Retail_df['PostalCode'].apply(handle_PostalCode)\r\n",
        "Retail_df['PostalCode'].value_counts()"
      ],
      "outputs": [
        {
          "output_type": "execute_result",
          "data": {
            "text/plain": [
              "others    9069\n",
              "10035      263\n",
              "10024      230\n",
              "10009      229\n",
              "94122      203\n",
              "Name: PostalCode, dtype: int64"
            ]
          },
          "metadata": {},
          "execution_count": 29
        }
      ],
      "metadata": {}
    },
    {
      "cell_type": "code",
      "execution_count": 30,
      "source": [
        "Retail_df.head()"
      ],
      "outputs": [
        {
          "output_type": "execute_result",
          "data": {
            "text/plain": [
              "        Ship Mode    Segment        Country         City       State  \\\n",
              "0    Second Class   Consumer  United States    Henderson      others   \n",
              "1    Second Class   Consumer  United States    Henderson      others   \n",
              "2    Second Class  Corporate  United States  Los Angeles  California   \n",
              "3  Standard Class   Consumer  United States       others     Florida   \n",
              "4  Standard Class   Consumer  United States       others     Florida   \n",
              "\n",
              "  PostalCode Region         Category Sub-Category     Sales  Quantity  \\\n",
              "0     others  South        Furniture    Bookcases  261.9600         2   \n",
              "1     others  South        Furniture       Chairs  731.9400         3   \n",
              "2     others   West  Office Supplies       Labels   14.6200         2   \n",
              "3     others  South        Furniture       Tables  957.5775         5   \n",
              "4     others  South  Office Supplies      Storage   22.3680         2   \n",
              "\n",
              "   Discount    Profit  \n",
              "0      0.00   41.9136  \n",
              "1      0.00  219.5820  \n",
              "2      0.00    6.8714  \n",
              "3      0.45 -383.0310  \n",
              "4      0.20    2.5164  "
            ],
            "text/html": [
              "<div>\n",
              "<style scoped>\n",
              "    .dataframe tbody tr th:only-of-type {\n",
              "        vertical-align: middle;\n",
              "    }\n",
              "\n",
              "    .dataframe tbody tr th {\n",
              "        vertical-align: top;\n",
              "    }\n",
              "\n",
              "    .dataframe thead th {\n",
              "        text-align: right;\n",
              "    }\n",
              "</style>\n",
              "<table border=\"1\" class=\"dataframe\">\n",
              "  <thead>\n",
              "    <tr style=\"text-align: right;\">\n",
              "      <th></th>\n",
              "      <th>Ship Mode</th>\n",
              "      <th>Segment</th>\n",
              "      <th>Country</th>\n",
              "      <th>City</th>\n",
              "      <th>State</th>\n",
              "      <th>PostalCode</th>\n",
              "      <th>Region</th>\n",
              "      <th>Category</th>\n",
              "      <th>Sub-Category</th>\n",
              "      <th>Sales</th>\n",
              "      <th>Quantity</th>\n",
              "      <th>Discount</th>\n",
              "      <th>Profit</th>\n",
              "    </tr>\n",
              "  </thead>\n",
              "  <tbody>\n",
              "    <tr>\n",
              "      <th>0</th>\n",
              "      <td>Second Class</td>\n",
              "      <td>Consumer</td>\n",
              "      <td>United States</td>\n",
              "      <td>Henderson</td>\n",
              "      <td>others</td>\n",
              "      <td>others</td>\n",
              "      <td>South</td>\n",
              "      <td>Furniture</td>\n",
              "      <td>Bookcases</td>\n",
              "      <td>261.9600</td>\n",
              "      <td>2</td>\n",
              "      <td>0.00</td>\n",
              "      <td>41.9136</td>\n",
              "    </tr>\n",
              "    <tr>\n",
              "      <th>1</th>\n",
              "      <td>Second Class</td>\n",
              "      <td>Consumer</td>\n",
              "      <td>United States</td>\n",
              "      <td>Henderson</td>\n",
              "      <td>others</td>\n",
              "      <td>others</td>\n",
              "      <td>South</td>\n",
              "      <td>Furniture</td>\n",
              "      <td>Chairs</td>\n",
              "      <td>731.9400</td>\n",
              "      <td>3</td>\n",
              "      <td>0.00</td>\n",
              "      <td>219.5820</td>\n",
              "    </tr>\n",
              "    <tr>\n",
              "      <th>2</th>\n",
              "      <td>Second Class</td>\n",
              "      <td>Corporate</td>\n",
              "      <td>United States</td>\n",
              "      <td>Los Angeles</td>\n",
              "      <td>California</td>\n",
              "      <td>others</td>\n",
              "      <td>West</td>\n",
              "      <td>Office Supplies</td>\n",
              "      <td>Labels</td>\n",
              "      <td>14.6200</td>\n",
              "      <td>2</td>\n",
              "      <td>0.00</td>\n",
              "      <td>6.8714</td>\n",
              "    </tr>\n",
              "    <tr>\n",
              "      <th>3</th>\n",
              "      <td>Standard Class</td>\n",
              "      <td>Consumer</td>\n",
              "      <td>United States</td>\n",
              "      <td>others</td>\n",
              "      <td>Florida</td>\n",
              "      <td>others</td>\n",
              "      <td>South</td>\n",
              "      <td>Furniture</td>\n",
              "      <td>Tables</td>\n",
              "      <td>957.5775</td>\n",
              "      <td>5</td>\n",
              "      <td>0.45</td>\n",
              "      <td>-383.0310</td>\n",
              "    </tr>\n",
              "    <tr>\n",
              "      <th>4</th>\n",
              "      <td>Standard Class</td>\n",
              "      <td>Consumer</td>\n",
              "      <td>United States</td>\n",
              "      <td>others</td>\n",
              "      <td>Florida</td>\n",
              "      <td>others</td>\n",
              "      <td>South</td>\n",
              "      <td>Office Supplies</td>\n",
              "      <td>Storage</td>\n",
              "      <td>22.3680</td>\n",
              "      <td>2</td>\n",
              "      <td>0.20</td>\n",
              "      <td>2.5164</td>\n",
              "    </tr>\n",
              "  </tbody>\n",
              "</table>\n",
              "</div>"
            ]
          },
          "metadata": {},
          "execution_count": 30
        }
      ],
      "metadata": {}
    },
    {
      "cell_type": "code",
      "execution_count": 31,
      "source": [
        "Retail_df['Sub-Category'].unique"
      ],
      "outputs": [
        {
          "output_type": "execute_result",
          "data": {
            "text/plain": [
              "<bound method Series.unique of 0         Bookcases\n",
              "1            Chairs\n",
              "2            Labels\n",
              "3            Tables\n",
              "4           Storage\n",
              "           ...     \n",
              "9989    Furnishings\n",
              "9990    Furnishings\n",
              "9991         Phones\n",
              "9992          Paper\n",
              "9993     Appliances\n",
              "Name: Sub-Category, Length: 9994, dtype: object>"
            ]
          },
          "metadata": {},
          "execution_count": 31
        }
      ],
      "metadata": {}
    },
    {
      "cell_type": "code",
      "execution_count": 32,
      "source": [
        "Retail_df['Sub-Category'].value_counts()"
      ],
      "outputs": [
        {
          "output_type": "execute_result",
          "data": {
            "text/plain": [
              "Binders        1523\n",
              "Paper          1370\n",
              "Furnishings     957\n",
              "Phones          889\n",
              "Storage         846\n",
              "Art             796\n",
              "Accessories     775\n",
              "Chairs          617\n",
              "Appliances      466\n",
              "Labels          364\n",
              "Tables          319\n",
              "Envelopes       254\n",
              "Bookcases       228\n",
              "Fasteners       217\n",
              "Supplies        190\n",
              "Machines        115\n",
              "Copiers          68\n",
              "Name: Sub-Category, dtype: int64"
            ]
          },
          "metadata": {},
          "execution_count": 32
        }
      ],
      "metadata": {}
    },
    {
      "cell_type": "code",
      "execution_count": 33,
      "source": [
        "Retail_df['Sales'].unique"
      ],
      "outputs": [
        {
          "output_type": "execute_result",
          "data": {
            "text/plain": [
              "<bound method Series.unique of 0       261.9600\n",
              "1       731.9400\n",
              "2        14.6200\n",
              "3       957.5775\n",
              "4        22.3680\n",
              "          ...   \n",
              "9989     25.2480\n",
              "9990     91.9600\n",
              "9991    258.5760\n",
              "9992     29.6000\n",
              "9993    243.1600\n",
              "Name: Sales, Length: 9994, dtype: float64>"
            ]
          },
          "metadata": {},
          "execution_count": 33
        }
      ],
      "metadata": {}
    },
    {
      "cell_type": "code",
      "execution_count": 34,
      "source": [
        "Retail_df['Sales'].value_counts()"
      ],
      "outputs": [
        {
          "output_type": "execute_result",
          "data": {
            "text/plain": [
              "12.960     56\n",
              "19.440     39\n",
              "15.552     39\n",
              "25.920     36\n",
              "10.368     36\n",
              "           ..\n",
              "4.240       1\n",
              "319.960     1\n",
              "646.740     1\n",
              "81.940      1\n",
              "243.160     1\n",
              "Name: Sales, Length: 5825, dtype: int64"
            ]
          },
          "metadata": {},
          "execution_count": 34
        }
      ],
      "metadata": {}
    },
    {
      "cell_type": "markdown",
      "source": [
        "**Visualisation**"
      ],
      "metadata": {}
    },
    {
      "cell_type": "code",
      "execution_count": 35,
      "source": [
        "Retail_df['Segment'].value_counts()"
      ],
      "outputs": [
        {
          "output_type": "execute_result",
          "data": {
            "text/plain": [
              "Consumer       5191\n",
              "Corporate      3020\n",
              "Home Office    1783\n",
              "Name: Segment, dtype: int64"
            ]
          },
          "metadata": {},
          "execution_count": 35
        }
      ],
      "metadata": {}
    },
    {
      "cell_type": "code",
      "execution_count": 36,
      "source": [
        "Retail_df['Ship Mode'].unique"
      ],
      "outputs": [
        {
          "output_type": "execute_result",
          "data": {
            "text/plain": [
              "<bound method Series.unique of 0         Second Class\n",
              "1         Second Class\n",
              "2         Second Class\n",
              "3       Standard Class\n",
              "4       Standard Class\n",
              "             ...      \n",
              "9989      Second Class\n",
              "9990    Standard Class\n",
              "9991    Standard Class\n",
              "9992    Standard Class\n",
              "9993      Second Class\n",
              "Name: Ship Mode, Length: 9994, dtype: object>"
            ]
          },
          "metadata": {},
          "execution_count": 36
        }
      ],
      "metadata": {}
    },
    {
      "cell_type": "code",
      "execution_count": 37,
      "source": [
        "Retail_df['Ship Mode'].value_counts()"
      ],
      "outputs": [
        {
          "output_type": "execute_result",
          "data": {
            "text/plain": [
              "Standard Class    5968\n",
              "Second Class      1945\n",
              "First Class       1538\n",
              "Same Day           543\n",
              "Name: Ship Mode, dtype: int64"
            ]
          },
          "metadata": {},
          "execution_count": 37
        }
      ],
      "metadata": {}
    },
    {
      "cell_type": "code",
      "execution_count": 38,
      "source": [
        "Retail_df.head()"
      ],
      "outputs": [
        {
          "output_type": "execute_result",
          "data": {
            "text/plain": [
              "        Ship Mode    Segment        Country         City       State  \\\n",
              "0    Second Class   Consumer  United States    Henderson      others   \n",
              "1    Second Class   Consumer  United States    Henderson      others   \n",
              "2    Second Class  Corporate  United States  Los Angeles  California   \n",
              "3  Standard Class   Consumer  United States       others     Florida   \n",
              "4  Standard Class   Consumer  United States       others     Florida   \n",
              "\n",
              "  PostalCode Region         Category Sub-Category     Sales  Quantity  \\\n",
              "0     others  South        Furniture    Bookcases  261.9600         2   \n",
              "1     others  South        Furniture       Chairs  731.9400         3   \n",
              "2     others   West  Office Supplies       Labels   14.6200         2   \n",
              "3     others  South        Furniture       Tables  957.5775         5   \n",
              "4     others  South  Office Supplies      Storage   22.3680         2   \n",
              "\n",
              "   Discount    Profit  \n",
              "0      0.00   41.9136  \n",
              "1      0.00  219.5820  \n",
              "2      0.00    6.8714  \n",
              "3      0.45 -383.0310  \n",
              "4      0.20    2.5164  "
            ],
            "text/html": [
              "<div>\n",
              "<style scoped>\n",
              "    .dataframe tbody tr th:only-of-type {\n",
              "        vertical-align: middle;\n",
              "    }\n",
              "\n",
              "    .dataframe tbody tr th {\n",
              "        vertical-align: top;\n",
              "    }\n",
              "\n",
              "    .dataframe thead th {\n",
              "        text-align: right;\n",
              "    }\n",
              "</style>\n",
              "<table border=\"1\" class=\"dataframe\">\n",
              "  <thead>\n",
              "    <tr style=\"text-align: right;\">\n",
              "      <th></th>\n",
              "      <th>Ship Mode</th>\n",
              "      <th>Segment</th>\n",
              "      <th>Country</th>\n",
              "      <th>City</th>\n",
              "      <th>State</th>\n",
              "      <th>PostalCode</th>\n",
              "      <th>Region</th>\n",
              "      <th>Category</th>\n",
              "      <th>Sub-Category</th>\n",
              "      <th>Sales</th>\n",
              "      <th>Quantity</th>\n",
              "      <th>Discount</th>\n",
              "      <th>Profit</th>\n",
              "    </tr>\n",
              "  </thead>\n",
              "  <tbody>\n",
              "    <tr>\n",
              "      <th>0</th>\n",
              "      <td>Second Class</td>\n",
              "      <td>Consumer</td>\n",
              "      <td>United States</td>\n",
              "      <td>Henderson</td>\n",
              "      <td>others</td>\n",
              "      <td>others</td>\n",
              "      <td>South</td>\n",
              "      <td>Furniture</td>\n",
              "      <td>Bookcases</td>\n",
              "      <td>261.9600</td>\n",
              "      <td>2</td>\n",
              "      <td>0.00</td>\n",
              "      <td>41.9136</td>\n",
              "    </tr>\n",
              "    <tr>\n",
              "      <th>1</th>\n",
              "      <td>Second Class</td>\n",
              "      <td>Consumer</td>\n",
              "      <td>United States</td>\n",
              "      <td>Henderson</td>\n",
              "      <td>others</td>\n",
              "      <td>others</td>\n",
              "      <td>South</td>\n",
              "      <td>Furniture</td>\n",
              "      <td>Chairs</td>\n",
              "      <td>731.9400</td>\n",
              "      <td>3</td>\n",
              "      <td>0.00</td>\n",
              "      <td>219.5820</td>\n",
              "    </tr>\n",
              "    <tr>\n",
              "      <th>2</th>\n",
              "      <td>Second Class</td>\n",
              "      <td>Corporate</td>\n",
              "      <td>United States</td>\n",
              "      <td>Los Angeles</td>\n",
              "      <td>California</td>\n",
              "      <td>others</td>\n",
              "      <td>West</td>\n",
              "      <td>Office Supplies</td>\n",
              "      <td>Labels</td>\n",
              "      <td>14.6200</td>\n",
              "      <td>2</td>\n",
              "      <td>0.00</td>\n",
              "      <td>6.8714</td>\n",
              "    </tr>\n",
              "    <tr>\n",
              "      <th>3</th>\n",
              "      <td>Standard Class</td>\n",
              "      <td>Consumer</td>\n",
              "      <td>United States</td>\n",
              "      <td>others</td>\n",
              "      <td>Florida</td>\n",
              "      <td>others</td>\n",
              "      <td>South</td>\n",
              "      <td>Furniture</td>\n",
              "      <td>Tables</td>\n",
              "      <td>957.5775</td>\n",
              "      <td>5</td>\n",
              "      <td>0.45</td>\n",
              "      <td>-383.0310</td>\n",
              "    </tr>\n",
              "    <tr>\n",
              "      <th>4</th>\n",
              "      <td>Standard Class</td>\n",
              "      <td>Consumer</td>\n",
              "      <td>United States</td>\n",
              "      <td>others</td>\n",
              "      <td>Florida</td>\n",
              "      <td>others</td>\n",
              "      <td>South</td>\n",
              "      <td>Office Supplies</td>\n",
              "      <td>Storage</td>\n",
              "      <td>22.3680</td>\n",
              "      <td>2</td>\n",
              "      <td>0.20</td>\n",
              "      <td>2.5164</td>\n",
              "    </tr>\n",
              "  </tbody>\n",
              "</table>\n",
              "</div>"
            ]
          },
          "metadata": {},
          "execution_count": 38
        }
      ],
      "metadata": {}
    },
    {
      "cell_type": "code",
      "execution_count": 39,
      "source": [
        "Retail_df['Discount'].value_counts()"
      ],
      "outputs": [
        {
          "output_type": "execute_result",
          "data": {
            "text/plain": [
              "0.00    4798\n",
              "0.20    3657\n",
              "0.70     418\n",
              "0.80     300\n",
              "0.30     227\n",
              "0.40     206\n",
              "0.60     138\n",
              "0.10      94\n",
              "0.50      66\n",
              "0.15      52\n",
              "0.32      27\n",
              "0.45      11\n",
              "Name: Discount, dtype: int64"
            ]
          },
          "metadata": {},
          "execution_count": 39
        }
      ],
      "metadata": {}
    },
    {
      "cell_type": "code",
      "execution_count": 40,
      "source": [
        "Retail_df['Profit'].value_counts()"
      ],
      "outputs": [
        {
          "output_type": "execute_result",
          "data": {
            "text/plain": [
              "0.0000     65\n",
              "6.2208     43\n",
              "9.3312     38\n",
              "5.4432     32\n",
              "3.6288     32\n",
              "           ..\n",
              "83.2508     1\n",
              "16.1096     1\n",
              "7.1988      1\n",
              "1.6510      1\n",
              "72.9480     1\n",
              "Name: Profit, Length: 7287, dtype: int64"
            ]
          },
          "metadata": {},
          "execution_count": 40
        }
      ],
      "metadata": {}
    },
    {
      "cell_type": "markdown",
      "source": [
        "**Data Visualisation**"
      ],
      "metadata": {}
    },
    {
      "cell_type": "code",
      "execution_count": 41,
      "source": [
        "plt.figure(figsize=(18,10))\r\n",
        "ax = sb.countplot(Retail_df['City'])\r\n",
        "plt.xticks(rotation=90)"
      ],
      "outputs": [
        {
          "output_type": "stream",
          "name": "stderr",
          "text": [
            "C:\\Users\\sajal\\AppData\\Local\\Programs\\Python\\Python39\\lib\\site-packages\\seaborn\\_decorators.py:36: FutureWarning: Pass the following variable as a keyword arg: x. From version 0.12, the only valid positional argument will be `data`, and passing other arguments without an explicit keyword will result in an error or misinterpretation.\n",
            "  warnings.warn(\n"
          ]
        },
        {
          "output_type": "execute_result",
          "data": {
            "text/plain": [
              "(array([ 0,  1,  2,  3,  4,  5,  6,  7,  8,  9, 10, 11, 12, 13, 14, 15, 16,\n",
              "        17, 18, 19, 20, 21, 22, 23, 24, 25, 26, 27]),\n",
              " [Text(0, 0, 'Henderson'),\n",
              "  Text(1, 0, 'Los Angeles'),\n",
              "  Text(2, 0, 'others'),\n",
              "  Text(3, 0, 'Seattle'),\n",
              "  Text(4, 0, 'San Francisco'),\n",
              "  Text(5, 0, 'Philadelphia'),\n",
              "  Text(6, 0, 'Houston'),\n",
              "  Text(7, 0, 'New York City'),\n",
              "  Text(8, 0, 'Chicago'),\n",
              "  Text(9, 0, 'Springfield'),\n",
              "  Text(10, 0, 'Jackson'),\n",
              "  Text(11, 0, 'Columbia'),\n",
              "  Text(12, 0, 'Rochester'),\n",
              "  Text(13, 0, 'Aurora'),\n",
              "  Text(14, 0, 'Charlotte'),\n",
              "  Text(15, 0, 'Columbus'),\n",
              "  Text(16, 0, 'Phoenix'),\n",
              "  Text(17, 0, 'Newark'),\n",
              "  Text(18, 0, 'San Antonio'),\n",
              "  Text(19, 0, 'Dallas'),\n",
              "  Text(20, 0, 'Detroit'),\n",
              "  Text(21, 0, 'San Diego'),\n",
              "  Text(22, 0, 'Arlington'),\n",
              "  Text(23, 0, 'Long Beach'),\n",
              "  Text(24, 0, 'Miami'),\n",
              "  Text(25, 0, 'Richmond'),\n",
              "  Text(26, 0, 'Louisville'),\n",
              "  Text(27, 0, 'Jacksonville')])"
            ]
          },
          "metadata": {},
          "execution_count": 41
        },
        {
          "output_type": "display_data",
          "data": {
            "text/plain": [
              "<Figure size 1296x720 with 1 Axes>"
            ],
            "image/png": "[encoded data removed]"
          },
          "metadata": {
            "needs_background": "light"
          }
        }
      ],
      "metadata": {}
    },
    {
      "cell_type": "markdown",
      "source": [
        "**Region wise Distribution**"
      ],
      "metadata": {}
    },
    {
      "cell_type": "code",
      "execution_count": 42,
      "source": [
        "plt.figure(figsize=(14,8))\r\n",
        "sb.countplot(Retail_df['Region'], palette='inferno')"
      ],
      "outputs": [
        {
          "output_type": "stream",
          "name": "stderr",
          "text": [
            "C:\\Users\\sajal\\AppData\\Local\\Programs\\Python\\Python39\\lib\\site-packages\\seaborn\\_decorators.py:36: FutureWarning: Pass the following variable as a keyword arg: x. From version 0.12, the only valid positional argument will be `data`, and passing other arguments without an explicit keyword will result in an error or misinterpretation.\n",
            "  warnings.warn(\n"
          ]
        },
        {
          "output_type": "execute_result",
          "data": {
            "text/plain": [
              "<AxesSubplot:xlabel='Region', ylabel='count'>"
            ]
          },
          "metadata": {},
          "execution_count": 42
        },
        {
          "output_type": "display_data",
          "data": {
            "text/plain": [
              "<Figure size 1008x576 with 1 Axes>"
            ],
            "image/png": "[encoded data removed]"
          },
          "metadata": {
            "needs_background": "light"
          }
        }
      ],
      "metadata": {}
    },
    {
      "cell_type": "markdown",
      "source": [
        "**Visualizing Region Vs Sales**"
      ],
      "metadata": {}
    },
    {
      "cell_type": "code",
      "execution_count": 43,
      "source": [
        "plt.figure(figsize=(20,20))\r\n",
        "sb.boxplot(x = 'Region', y ='Sales' ,data = Retail_df)"
      ],
      "outputs": [
        {
          "output_type": "execute_result",
          "data": {
            "text/plain": [
              "<AxesSubplot:xlabel='Region', ylabel='Sales'>"
            ]
          },
          "metadata": {},
          "execution_count": 43
        },
        {
          "output_type": "display_data",
          "data": {
            "text/plain": [
              "<Figure size 1440x1440 with 1 Axes>"
            ],
            "image/png": "[encoded data removed]"
          },
          "metadata": {
            "needs_background": "light"
          }
        }
      ],
      "metadata": {}
    },
    {
      "cell_type": "code",
      "execution_count": 44,
      "source": [
        "Retail_df.head()"
      ],
      "outputs": [
        {
          "output_type": "execute_result",
          "data": {
            "text/plain": [
              "        Ship Mode    Segment        Country         City       State  \\\n",
              "0    Second Class   Consumer  United States    Henderson      others   \n",
              "1    Second Class   Consumer  United States    Henderson      others   \n",
              "2    Second Class  Corporate  United States  Los Angeles  California   \n",
              "3  Standard Class   Consumer  United States       others     Florida   \n",
              "4  Standard Class   Consumer  United States       others     Florida   \n",
              "\n",
              "  PostalCode Region         Category Sub-Category     Sales  Quantity  \\\n",
              "0     others  South        Furniture    Bookcases  261.9600         2   \n",
              "1     others  South        Furniture       Chairs  731.9400         3   \n",
              "2     others   West  Office Supplies       Labels   14.6200         2   \n",
              "3     others  South        Furniture       Tables  957.5775         5   \n",
              "4     others  South  Office Supplies      Storage   22.3680         2   \n",
              "\n",
              "   Discount    Profit  \n",
              "0      0.00   41.9136  \n",
              "1      0.00  219.5820  \n",
              "2      0.00    6.8714  \n",
              "3      0.45 -383.0310  \n",
              "4      0.20    2.5164  "
            ],
            "text/html": [
              "<div>\n",
              "<style scoped>\n",
              "    .dataframe tbody tr th:only-of-type {\n",
              "        vertical-align: middle;\n",
              "    }\n",
              "\n",
              "    .dataframe tbody tr th {\n",
              "        vertical-align: top;\n",
              "    }\n",
              "\n",
              "    .dataframe thead th {\n",
              "        text-align: right;\n",
              "    }\n",
              "</style>\n",
              "<table border=\"1\" class=\"dataframe\">\n",
              "  <thead>\n",
              "    <tr style=\"text-align: right;\">\n",
              "      <th></th>\n",
              "      <th>Ship Mode</th>\n",
              "      <th>Segment</th>\n",
              "      <th>Country</th>\n",
              "      <th>City</th>\n",
              "      <th>State</th>\n",
              "      <th>PostalCode</th>\n",
              "      <th>Region</th>\n",
              "      <th>Category</th>\n",
              "      <th>Sub-Category</th>\n",
              "      <th>Sales</th>\n",
              "      <th>Quantity</th>\n",
              "      <th>Discount</th>\n",
              "      <th>Profit</th>\n",
              "    </tr>\n",
              "  </thead>\n",
              "  <tbody>\n",
              "    <tr>\n",
              "      <th>0</th>\n",
              "      <td>Second Class</td>\n",
              "      <td>Consumer</td>\n",
              "      <td>United States</td>\n",
              "      <td>Henderson</td>\n",
              "      <td>others</td>\n",
              "      <td>others</td>\n",
              "      <td>South</td>\n",
              "      <td>Furniture</td>\n",
              "      <td>Bookcases</td>\n",
              "      <td>261.9600</td>\n",
              "      <td>2</td>\n",
              "      <td>0.00</td>\n",
              "      <td>41.9136</td>\n",
              "    </tr>\n",
              "    <tr>\n",
              "      <th>1</th>\n",
              "      <td>Second Class</td>\n",
              "      <td>Consumer</td>\n",
              "      <td>United States</td>\n",
              "      <td>Henderson</td>\n",
              "      <td>others</td>\n",
              "      <td>others</td>\n",
              "      <td>South</td>\n",
              "      <td>Furniture</td>\n",
              "      <td>Chairs</td>\n",
              "      <td>731.9400</td>\n",
              "      <td>3</td>\n",
              "      <td>0.00</td>\n",
              "      <td>219.5820</td>\n",
              "    </tr>\n",
              "    <tr>\n",
              "      <th>2</th>\n",
              "      <td>Second Class</td>\n",
              "      <td>Corporate</td>\n",
              "      <td>United States</td>\n",
              "      <td>Los Angeles</td>\n",
              "      <td>California</td>\n",
              "      <td>others</td>\n",
              "      <td>West</td>\n",
              "      <td>Office Supplies</td>\n",
              "      <td>Labels</td>\n",
              "      <td>14.6200</td>\n",
              "      <td>2</td>\n",
              "      <td>0.00</td>\n",
              "      <td>6.8714</td>\n",
              "    </tr>\n",
              "    <tr>\n",
              "      <th>3</th>\n",
              "      <td>Standard Class</td>\n",
              "      <td>Consumer</td>\n",
              "      <td>United States</td>\n",
              "      <td>others</td>\n",
              "      <td>Florida</td>\n",
              "      <td>others</td>\n",
              "      <td>South</td>\n",
              "      <td>Furniture</td>\n",
              "      <td>Tables</td>\n",
              "      <td>957.5775</td>\n",
              "      <td>5</td>\n",
              "      <td>0.45</td>\n",
              "      <td>-383.0310</td>\n",
              "    </tr>\n",
              "    <tr>\n",
              "      <th>4</th>\n",
              "      <td>Standard Class</td>\n",
              "      <td>Consumer</td>\n",
              "      <td>United States</td>\n",
              "      <td>others</td>\n",
              "      <td>Florida</td>\n",
              "      <td>others</td>\n",
              "      <td>South</td>\n",
              "      <td>Office Supplies</td>\n",
              "      <td>Storage</td>\n",
              "      <td>22.3680</td>\n",
              "      <td>2</td>\n",
              "      <td>0.20</td>\n",
              "      <td>2.5164</td>\n",
              "    </tr>\n",
              "  </tbody>\n",
              "</table>\n",
              "</div>"
            ]
          },
          "metadata": {},
          "execution_count": 44
        }
      ],
      "metadata": {}
    },
    {
      "cell_type": "markdown",
      "source": [
        "**Visualizing Regionwise Profit**"
      ],
      "metadata": {}
    },
    {
      "cell_type": "code",
      "execution_count": 45,
      "source": [
        "Retail_df1 = Retail_df.groupby(['Region' , 'Ship Mode'])['Country'].count()\r\n",
        "Retail_df1. to_csv('Region_shipmode.csv')\r\n",
        "Retail_df1 =pd.read_csv('Region_shipmode.csv')\r\n",
        "Retail_df1 = pd.pivot_table(Retail_df1, values=None, index=['Region'], columns=['Ship Mode'], fill_value=0, aggfunc=np.sum)\r\n",
        "Retail_df1"
      ],
      "outputs": [
        {
          "output_type": "execute_result",
          "data": {
            "text/plain": [
              "              Country                                     \n",
              "Ship Mode First Class Same Day Second Class Standard Class\n",
              "Region                                                    \n",
              "Central           299      120          465           1439\n",
              "East              490      155          530           1673\n",
              "South             234       83          329            974\n",
              "West              515      185          621           1882"
            ],
            "text/html": [
              "<div>\n",
              "<style scoped>\n",
              "    .dataframe tbody tr th:only-of-type {\n",
              "        vertical-align: middle;\n",
              "    }\n",
              "\n",
              "    .dataframe tbody tr th {\n",
              "        vertical-align: top;\n",
              "    }\n",
              "\n",
              "    .dataframe thead tr th {\n",
              "        text-align: left;\n",
              "    }\n",
              "\n",
              "    .dataframe thead tr:last-of-type th {\n",
              "        text-align: right;\n",
              "    }\n",
              "</style>\n",
              "<table border=\"1\" class=\"dataframe\">\n",
              "  <thead>\n",
              "    <tr>\n",
              "      <th></th>\n",
              "      <th colspan=\"4\" halign=\"left\">Country</th>\n",
              "    </tr>\n",
              "    <tr>\n",
              "      <th>Ship Mode</th>\n",
              "      <th>First Class</th>\n",
              "      <th>Same Day</th>\n",
              "      <th>Second Class</th>\n",
              "      <th>Standard Class</th>\n",
              "    </tr>\n",
              "    <tr>\n",
              "      <th>Region</th>\n",
              "      <th></th>\n",
              "      <th></th>\n",
              "      <th></th>\n",
              "      <th></th>\n",
              "    </tr>\n",
              "  </thead>\n",
              "  <tbody>\n",
              "    <tr>\n",
              "      <th>Central</th>\n",
              "      <td>299</td>\n",
              "      <td>120</td>\n",
              "      <td>465</td>\n",
              "      <td>1439</td>\n",
              "    </tr>\n",
              "    <tr>\n",
              "      <th>East</th>\n",
              "      <td>490</td>\n",
              "      <td>155</td>\n",
              "      <td>530</td>\n",
              "      <td>1673</td>\n",
              "    </tr>\n",
              "    <tr>\n",
              "      <th>South</th>\n",
              "      <td>234</td>\n",
              "      <td>83</td>\n",
              "      <td>329</td>\n",
              "      <td>974</td>\n",
              "    </tr>\n",
              "    <tr>\n",
              "      <th>West</th>\n",
              "      <td>515</td>\n",
              "      <td>185</td>\n",
              "      <td>621</td>\n",
              "      <td>1882</td>\n",
              "    </tr>\n",
              "  </tbody>\n",
              "</table>\n",
              "</div>"
            ]
          },
          "metadata": {},
          "execution_count": 45
        }
      ],
      "metadata": {}
    },
    {
      "cell_type": "code",
      "execution_count": 46,
      "source": [
        "Retail_df1.plot(kind = 'bar', figsize = (15,8))"
      ],
      "outputs": [
        {
          "output_type": "execute_result",
          "data": {
            "text/plain": [
              "<AxesSubplot:xlabel='Region'>"
            ]
          },
          "metadata": {},
          "execution_count": 46
        },
        {
          "output_type": "display_data",
          "data": {
            "text/plain": [
              "<Figure size 1080x576 with 1 Axes>"
            ],
            "image/png": "[encoded data removed]"
          },
          "metadata": {
            "needs_background": "light"
          }
        }
      ],
      "metadata": {}
    },
    {
      "cell_type": "markdown",
      "source": [
        "**Visualizing Segment**"
      ],
      "metadata": {}
    },
    {
      "cell_type": "code",
      "execution_count": 47,
      "source": [
        "plt.figure(figsize=(8,8))\r\n",
        "sb.countplot(Retail_df['Segment'], palette= 'rainbow')"
      ],
      "outputs": [
        {
          "output_type": "stream",
          "name": "stderr",
          "text": [
            "C:\\Users\\sajal\\AppData\\Local\\Programs\\Python\\Python39\\lib\\site-packages\\seaborn\\_decorators.py:36: FutureWarning: Pass the following variable as a keyword arg: x. From version 0.12, the only valid positional argument will be `data`, and passing other arguments without an explicit keyword will result in an error or misinterpretation.\n",
            "  warnings.warn(\n"
          ]
        },
        {
          "output_type": "execute_result",
          "data": {
            "text/plain": [
              "<AxesSubplot:xlabel='Segment', ylabel='count'>"
            ]
          },
          "metadata": {},
          "execution_count": 47
        },
        {
          "output_type": "display_data",
          "data": {
            "text/plain": [
              "<Figure size 576x576 with 1 Axes>"
            ],
            "image/png": "[encoded data removed]"
          },
          "metadata": {
            "needs_background": "light"
          }
        }
      ],
      "metadata": {}
    },
    {
      "cell_type": "markdown",
      "source": [
        "**Visualizing Sub-Category**"
      ],
      "metadata": {}
    },
    {
      "cell_type": "code",
      "execution_count": 48,
      "source": [
        "plt.figure(figsize=(10,10))\r\n",
        "plt.xticks(rotation=90)\r\n",
        "ax=sb.countplot(x = 'Sub-Category', data=Retail_df)"
      ],
      "outputs": [
        {
          "output_type": "display_data",
          "data": {
            "text/plain": [
              "<Figure size 720x720 with 1 Axes>"
            ],
            "image/png": "[encoded data removed]"
          },
          "metadata": {
            "needs_background": "light"
          }
        }
      ],
      "metadata": {}
    },
    {
      "cell_type": "code",
      "execution_count": 49,
      "source": [
        "plt.figure(figsize=(46,38))\r\n",
        "sb.boxplot(x='Sub-Category', y='Profit', data=Retail_df, palette= 'inferno')"
      ],
      "outputs": [
        {
          "output_type": "execute_result",
          "data": {
            "text/plain": [
              "<AxesSubplot:xlabel='Sub-Category', ylabel='Profit'>"
            ]
          },
          "metadata": {},
          "execution_count": 49
        },
        {
          "output_type": "display_data",
          "data": {
            "text/plain": [
              "<Figure size 3312x2736 with 1 Axes>"
            ],
            "image/png": "[encoded data removed]"
          },
          "metadata": {
            "needs_background": "light"
          }
        }
      ],
      "metadata": {}
    },
    {
      "cell_type": "code",
      "execution_count": 52,
      "source": [
        "Retail_df2 = Retail_df.groupby(['City','Category'])['Ship Mode'].count()\r\n",
        "Retail_df2.to_csv('City_PostalCode.csv')\r\n",
        "Retail_df2 = pd.read_csv('City_PostalCode.csv')\r\n",
        "Retail_df2 = pd.pivot_table(Retail_df2, values=None, index=['City'], columns=['Category'], fill_value=0, aggfunc=np.sum)\r\n",
        "Retail_df2\r\n"
      ],
      "outputs": [
        {
          "output_type": "execute_result",
          "data": {
            "text/plain": [
              "              Ship Mode                           \n",
              "Category      Furniture Office Supplies Technology\n",
              "City                                              \n",
              "Arlington            13              37         10\n",
              "Aurora               21              37         10\n",
              "Charlotte             6              33         13\n",
              "Chicago              68             187         59\n",
              "Columbia             18              52         11\n",
              "Columbus             48             135         39\n",
              "Dallas               27             104         26\n",
              "Detroit              28              65         22\n",
              "Henderson            15              32          4\n",
              "Houston              81             231         65\n",
              "Jackson              13              51         18\n",
              "Jacksonville         24              73         28\n",
              "Long Beach            9              43          9\n",
              "Los Angeles         154             443        150\n",
              "Louisville           16              29         12\n",
              "Miami                 8              39         10\n",
              "New York City       192             552        171\n",
              "Newark               18              54         23\n",
              "Philadelphia        111             312        114\n",
              "Phoenix              14              37         12\n",
              "Richmond             16              58         16\n",
              "Rochester             9              35          9\n",
              "San Antonio          12              32         15\n",
              "San Diego            46              88         36\n",
              "San Francisco       102             322         86\n",
              "Seattle              97             249         82\n",
              "Springfield          27             104         32\n",
              "others              928            2592        765"
            ],
            "text/html": [
              "<div>\n",
              "<style scoped>\n",
              "    .dataframe tbody tr th:only-of-type {\n",
              "        vertical-align: middle;\n",
              "    }\n",
              "\n",
              "    .dataframe tbody tr th {\n",
              "        vertical-align: top;\n",
              "    }\n",
              "\n",
              "    .dataframe thead tr th {\n",
              "        text-align: left;\n",
              "    }\n",
              "\n",
              "    .dataframe thead tr:last-of-type th {\n",
              "        text-align: right;\n",
              "    }\n",
              "</style>\n",
              "<table border=\"1\" class=\"dataframe\">\n",
              "  <thead>\n",
              "    <tr>\n",
              "      <th></th>\n",
              "      <th colspan=\"3\" halign=\"left\">Ship Mode</th>\n",
              "    </tr>\n",
              "    <tr>\n",
              "      <th>Category</th>\n",
              "      <th>Furniture</th>\n",
              "      <th>Office Supplies</th>\n",
              "      <th>Technology</th>\n",
              "    </tr>\n",
              "    <tr>\n",
              "      <th>City</th>\n",
              "      <th></th>\n",
              "      <th></th>\n",
              "      <th></th>\n",
              "    </tr>\n",
              "  </thead>\n",
              "  <tbody>\n",
              "    <tr>\n",
              "      <th>Arlington</th>\n",
              "      <td>13</td>\n",
              "      <td>37</td>\n",
              "      <td>10</td>\n",
              "    </tr>\n",
              "    <tr>\n",
              "      <th>Aurora</th>\n",
              "      <td>21</td>\n",
              "      <td>37</td>\n",
              "      <td>10</td>\n",
              "    </tr>\n",
              "    <tr>\n",
              "      <th>Charlotte</th>\n",
              "      <td>6</td>\n",
              "      <td>33</td>\n",
              "      <td>13</td>\n",
              "    </tr>\n",
              "    <tr>\n",
              "      <th>Chicago</th>\n",
              "      <td>68</td>\n",
              "      <td>187</td>\n",
              "      <td>59</td>\n",
              "    </tr>\n",
              "    <tr>\n",
              "      <th>Columbia</th>\n",
              "      <td>18</td>\n",
              "      <td>52</td>\n",
              "      <td>11</td>\n",
              "    </tr>\n",
              "    <tr>\n",
              "      <th>Columbus</th>\n",
              "      <td>48</td>\n",
              "      <td>135</td>\n",
              "      <td>39</td>\n",
              "    </tr>\n",
              "    <tr>\n",
              "      <th>Dallas</th>\n",
              "      <td>27</td>\n",
              "      <td>104</td>\n",
              "      <td>26</td>\n",
              "    </tr>\n",
              "    <tr>\n",
              "      <th>Detroit</th>\n",
              "      <td>28</td>\n",
              "      <td>65</td>\n",
              "      <td>22</td>\n",
              "    </tr>\n",
              "    <tr>\n",
              "      <th>Henderson</th>\n",
              "      <td>15</td>\n",
              "      <td>32</td>\n",
              "      <td>4</td>\n",
              "    </tr>\n",
              "    <tr>\n",
              "      <th>Houston</th>\n",
              "      <td>81</td>\n",
              "      <td>231</td>\n",
              "      <td>65</td>\n",
              "    </tr>\n",
              "    <tr>\n",
              "      <th>Jackson</th>\n",
              "      <td>13</td>\n",
              "      <td>51</td>\n",
              "      <td>18</td>\n",
              "    </tr>\n",
              "    <tr>\n",
              "      <th>Jacksonville</th>\n",
              "      <td>24</td>\n",
              "      <td>73</td>\n",
              "      <td>28</td>\n",
              "    </tr>\n",
              "    <tr>\n",
              "      <th>Long Beach</th>\n",
              "      <td>9</td>\n",
              "      <td>43</td>\n",
              "      <td>9</td>\n",
              "    </tr>\n",
              "    <tr>\n",
              "      <th>Los Angeles</th>\n",
              "      <td>154</td>\n",
              "      <td>443</td>\n",
              "      <td>150</td>\n",
              "    </tr>\n",
              "    <tr>\n",
              "      <th>Louisville</th>\n",
              "      <td>16</td>\n",
              "      <td>29</td>\n",
              "      <td>12</td>\n",
              "    </tr>\n",
              "    <tr>\n",
              "      <th>Miami</th>\n",
              "      <td>8</td>\n",
              "      <td>39</td>\n",
              "      <td>10</td>\n",
              "    </tr>\n",
              "    <tr>\n",
              "      <th>New York City</th>\n",
              "      <td>192</td>\n",
              "      <td>552</td>\n",
              "      <td>171</td>\n",
              "    </tr>\n",
              "    <tr>\n",
              "      <th>Newark</th>\n",
              "      <td>18</td>\n",
              "      <td>54</td>\n",
              "      <td>23</td>\n",
              "    </tr>\n",
              "    <tr>\n",
              "      <th>Philadelphia</th>\n",
              "      <td>111</td>\n",
              "      <td>312</td>\n",
              "      <td>114</td>\n",
              "    </tr>\n",
              "    <tr>\n",
              "      <th>Phoenix</th>\n",
              "      <td>14</td>\n",
              "      <td>37</td>\n",
              "      <td>12</td>\n",
              "    </tr>\n",
              "    <tr>\n",
              "      <th>Richmond</th>\n",
              "      <td>16</td>\n",
              "      <td>58</td>\n",
              "      <td>16</td>\n",
              "    </tr>\n",
              "    <tr>\n",
              "      <th>Rochester</th>\n",
              "      <td>9</td>\n",
              "      <td>35</td>\n",
              "      <td>9</td>\n",
              "    </tr>\n",
              "    <tr>\n",
              "      <th>San Antonio</th>\n",
              "      <td>12</td>\n",
              "      <td>32</td>\n",
              "      <td>15</td>\n",
              "    </tr>\n",
              "    <tr>\n",
              "      <th>San Diego</th>\n",
              "      <td>46</td>\n",
              "      <td>88</td>\n",
              "      <td>36</td>\n",
              "    </tr>\n",
              "    <tr>\n",
              "      <th>San Francisco</th>\n",
              "      <td>102</td>\n",
              "      <td>322</td>\n",
              "      <td>86</td>\n",
              "    </tr>\n",
              "    <tr>\n",
              "      <th>Seattle</th>\n",
              "      <td>97</td>\n",
              "      <td>249</td>\n",
              "      <td>82</td>\n",
              "    </tr>\n",
              "    <tr>\n",
              "      <th>Springfield</th>\n",
              "      <td>27</td>\n",
              "      <td>104</td>\n",
              "      <td>32</td>\n",
              "    </tr>\n",
              "    <tr>\n",
              "      <th>others</th>\n",
              "      <td>928</td>\n",
              "      <td>2592</td>\n",
              "      <td>765</td>\n",
              "    </tr>\n",
              "  </tbody>\n",
              "</table>\n",
              "</div>"
            ]
          },
          "metadata": {},
          "execution_count": 52
        }
      ],
      "metadata": {}
    },
    {
      "cell_type": "code",
      "execution_count": 54,
      "source": [
        "Retail_df2.plot(kind = 'bar', figsize =(36,28))\r\n"
      ],
      "outputs": [
        {
          "output_type": "execute_result",
          "data": {
            "text/plain": [
              "<AxesSubplot:xlabel='City'>"
            ]
          },
          "metadata": {},
          "execution_count": 54
        },
        {
          "output_type": "display_data",
          "data": {
            "text/plain": [
              "<Figure size 2592x2016 with 1 Axes>"
            ],
            "image/png": "[encoded data removed]"
          },
          "metadata": {
            "needs_background": "light"
          }
        }
      ],
      "metadata": {}
    },
    {
      "cell_type": "markdown",
      "source": [
        "**Regionwise Quantity**"
      ],
      "metadata": {}
    },
    {
      "cell_type": "code",
      "execution_count": 60,
      "source": [
        "plt.figure(figsize=(20, 10))\r\n",
        "plt.xticks(rotation=90)\r\n",
        "ax = sb.countplot(x=\"Quantity\", data=Retail_df, hue='Region')\r\n",
        "for p in ax.patches:\r\n",
        "    ax.annotate(str(p.get_height()), (p.get_x() * 1.01, p.get_height() * 1.01))\r\n",
        "plt.grid()\r\n"
      ],
      "outputs": [
        {
          "output_type": "display_data",
          "data": {
            "text/plain": [
              "<Figure size 1440x720 with 1 Axes>"
            ],
            "image/png": "[encoded data removed]"
          },
          "metadata": {
            "needs_background": "light"
          }
        }
      ],
      "metadata": {}
    },
    {
      "cell_type": "markdown",
      "source": [
        "**Sub-category VS Quantity**"
      ],
      "metadata": {}
    },
    {
      "cell_type": "code",
      "execution_count": 62,
      "source": [
        "plt.style.use('dark_background')\r\n",
        "\r\n",
        "plt.figure(figsize=(20, 10))\r\n",
        "plt.xticks(rotation=90)\r\n",
        "ax = sb.countplot(x=\"Sub-Category\", data=Retail_df, hue='Region')\r\n",
        "for p in ax.patches:\r\n",
        "    ax.annotate(str(p.get_height()), (p.get_x() * 1.01, p.get_height() * 1.01))\r\n",
        "plt.grid()\r\n"
      ],
      "outputs": [
        {
          "output_type": "display_data",
          "data": {
            "text/plain": [
              "<Figure size 1440x720 with 1 Axes>"
            ],
            "image/png": "[encoded data removed]"
          },
          "metadata": {}
        }
      ],
      "metadata": {}
    },
    {
      "cell_type": "markdown",
      "source": [
        "**Corealtion between columns**"
      ],
      "metadata": {}
    },
    {
      "cell_type": "code",
      "execution_count": 66,
      "source": [
        "sb.heatmap(Retail_df.corr(), yticklabels=True,\r\n",
        "           cbar=True, cmap='summer', annot=True)\r\n"
      ],
      "outputs": [
        {
          "output_type": "execute_result",
          "data": {
            "text/plain": [
              "<AxesSubplot:>"
            ]
          },
          "metadata": {},
          "execution_count": 66
        },
        {
          "output_type": "display_data",
          "data": {
            "text/plain": [
              "<Figure size 432x288 with 2 Axes>"
            ],
            "image/png": "[encoded data removed]"
          },
          "metadata": {}
        }
      ],
      "metadata": {}
    },
    {
      "cell_type": "markdown",
      "source": [
        "**Finally Analysing Profit VS Sub-categorySales**"
      ],
      "metadata": {}
    },
    {
      "cell_type": "code",
      "execution_count": 69,
      "source": [
        "# computing top sub-categories in terms of sales from first 100 observations\r\n",
        "top_subcategory_sales = Retail_df.groupby(\r\n",
        "    \"Sub-Category\").Sales.sum().nlargest(n=100)\r\n",
        "# computing top sub-categories in terms of profit from first 100 observations\r\n",
        "top_subcategory_profit = Retail_df.groupby(\r\n",
        "    \"Sub-Category\").Profit.sum().nlargest(n=100)\r\n",
        "\r\n",
        "# plotting to see it visually\r\n",
        "\r\n",
        "plt.style.use('seaborn')\r\n",
        "top_subcategory_sales.plot(kind='bar', figsize=(10, 5), fontsize=14)\r\n",
        "top_subcategory_profit.plot(\r\n",
        "    kind='bar', figsize=(10, 5), fontsize=14, color='red')\r\n",
        "plt.xlabel('Sub-Category', fontsize=15)\r\n",
        "plt.ylabel('Total Sales/Profits', fontsize=15)\r\n",
        "plt.title(\"Top Sub-Category Sales vs Profit\", fontsize=15)\r\n",
        "plt.show()\r\n"
      ],
      "outputs": [
        {
          "output_type": "display_data",
          "data": {
            "text/plain": [
              "<Figure size 720x360 with 1 Axes>"
            ],
            "image/png": "[encoded data removed]"
          },
          "metadata": {}
        }
      ],
      "metadata": {}
    },
    {
      "cell_type": "code",
      "execution_count": null,
      "source": [],
      "outputs": [],
      "metadata": {}
    }
  ]
}